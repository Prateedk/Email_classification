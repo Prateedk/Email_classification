{
 "cells": [
  {
   "cell_type": "markdown",
   "metadata": {},
   "source": [
    "# Problem statement:\n",
    "###### Build a model to classify emails into different categories based on the content of the emails.\n",
    "###### Data: \"A subset of about 1700 labelled email messages\" from https://bailando.berkeley.edu/enron_email.html"
   ]
  },
  {
   "cell_type": "markdown",
   "metadata": {},
   "source": [
    "# Approach:\n",
    "###### 1. Clean the dataset with stemming, removing stopwords, numerals etc.\n",
    "###### 2. Prepare the corpus and learn Doc2Vec embeddings with (PV-DBOW).\n",
    "###### 3. Implement a simple Feed Forward Neural network with dropout and L2 regularization.\n",
    "###### 4. Take learnt embeddings as the input to the Model and fine tune the network.\n",
    "###### 4. Data is imbalanced. Used balanced class weights during trainning.\n",
    "\n",
    "### NOTE:\n",
    "###### 1. Insight: for data imbalance, few shot learning, similarity between the documents and Siamese network of RNNs can be explored. Refer: my previous [work](https://github.com/Prateedk/One-Shot-Classification/blob/main/OneShotClassificationProjectReport.pdf) on this.\n",
    "###### 2. As data set is small, this objective can be achieved with the use of tfidf feature extraction, LDA, BoW models etc. This approach is adapted so that it would work on wider problems as well.\n",
    "###### 3. SOTA Transformer encoder architectures such as BERT can also be used with its vector-space representations, but that would be a overkill as per data and objective.\n",
    "###### 4. There is high scope of Code Modularization, this is just a draft. So that, one can easily understand the approach."
   ]
  },
  {
   "cell_type": "markdown",
   "metadata": {
    "id": "zBA-tttoBtJQ"
   },
   "source": [
    "# Importing Libraries"
   ]
  },
  {
   "cell_type": "code",
   "execution_count": 2,
   "metadata": {
    "id": "CRlhV-HUoErZ"
   },
   "outputs": [],
   "source": [
    "#!nvidia-smi"
   ]
  },
  {
   "cell_type": "code",
   "execution_count": 3,
   "metadata": {
    "id": "Y7Xf9oLbfGSm"
   },
   "outputs": [],
   "source": [
    "import tensorflow as tf\n",
    "from tensorflow.keras.utils import plot_model\n",
    "import numpy as np\n",
    "import pandas as pd\n",
    "import matplotlib.pyplot as plt\n",
    "import matplotlib.image as mpimg\n",
    "import random\n",
    "import os"
   ]
  },
  {
   "cell_type": "markdown",
   "metadata": {
    "id": "6fNVZPGzCGIv"
   },
   "source": [
    "# Download and Unzip dataset"
   ]
  },
  {
   "cell_type": "code",
   "execution_count": 4,
   "metadata": {
    "colab": {
     "base_uri": "https://localhost:8080/"
    },
    "id": "OzNLBHSRfNSP",
    "outputId": "617a0814-6872-4e8e-d5f5-5fde77c0bfed"
   },
   "outputs": [
    {
     "name": "stdout",
     "output_type": "stream",
     "text": [
      "--2022-11-28 05:06:03--  https://bailando.berkeley.edu/enron/enron_with_categories.tar.gz\n",
      "Resolving bailando.berkeley.edu (bailando.berkeley.edu)... 128.32.78.19\n",
      "Connecting to bailando.berkeley.edu (bailando.berkeley.edu)|128.32.78.19|:443... connected.\n",
      "HTTP request sent, awaiting response... 200 OK\n",
      "Length: 4523350 (4.3M) [application/x-gzip]\n",
      "Saving to: ‘enron_with_categories.tar.gz’\n",
      "\n",
      "enron_with_categori 100%[===================>]   4.31M  --.-KB/s    in 0.1s    \n",
      "\n",
      "2022-11-28 05:06:04 (29.1 MB/s) - ‘enron_with_categories.tar.gz’ saved [4523350/4523350]\n",
      "\n",
      "there are 8 directories and 1 textfiles in 'enron_with_categories/'.\n",
      "there are 0 directories and 72 textfiles in 'enron_with_categories/2'.\n",
      "there are 0 directories and 286 textfiles in 'enron_with_categories/6'.\n",
      "there are 0 directories and 148 textfiles in 'enron_with_categories/5'.\n",
      "there are 0 directories and 42 textfiles in 'enron_with_categories/7'.\n",
      "there are 0 directories and 952 textfiles in 'enron_with_categories/4'.\n",
      "there are 0 directories and 36 textfiles in 'enron_with_categories/8'.\n",
      "there are 0 directories and 1668 textfiles in 'enron_with_categories/1'.\n",
      "there are 0 directories and 200 textfiles in 'enron_with_categories/3'.\n"
     ]
    }
   ],
   "source": [
    "!wget https://bailando.berkeley.edu/enron/enron_with_categories.tar.gz\n",
    "import tarfile\n",
    "fname = 'enron_with_categories.tar.gz'\n",
    "if fname.endswith(\"tar.gz\"):\n",
    "    tar = tarfile.open(fname, \"r:gz\")\n",
    "    tar.extractall()\n",
    "    tar.close()\n",
    "\n",
    "for dirpath, dirnames, filenames in os.walk(\"enron_with_categories/\"):\n",
    "  print(f\"there are {len(dirnames)} directories and {len(filenames)} textfiles in '{dirpath}'.\") "
   ]
  },
  {
   "cell_type": "markdown",
   "metadata": {
    "id": "U1Qzqy83COKD"
   },
   "source": [
    "# Remove the classes"
   ]
  },
  {
   "cell_type": "markdown",
   "metadata": {
    "id": "lhaD6eYX1y8P"
   },
   "source": [
    "Deleting the classes 7 and 8"
   ]
  },
  {
   "cell_type": "code",
   "execution_count": 5,
   "metadata": {
    "id": "RiFCoEx-gdlq"
   },
   "outputs": [],
   "source": [
    "import shutil\n",
    "directory = 'enron_with_categories/7'\n",
    "shutil.rmtree(directory)\n",
    "directory = 'enron_with_categories/8'\n",
    "shutil.rmtree(directory)"
   ]
  },
  {
   "cell_type": "markdown",
   "metadata": {
    "id": "IkVn3wFACdAV"
   },
   "source": [
    "# Split the dataset\n",
    "###### Split in the ratio of *train : val : test = 0.8 : 0.1 : 0.1*"
   ]
  },
  {
   "cell_type": "code",
   "execution_count": 6,
   "metadata": {
    "colab": {
     "base_uri": "https://localhost:8080/"
    },
    "id": "uurvK2OffgBo",
    "outputId": "9c34d75e-7788-49ce-b774-006147699ab5"
   },
   "outputs": [
    {
     "name": "stdout",
     "output_type": "stream",
     "text": [
      "Looking in indexes: https://pypi.org/simple, https://us-python.pkg.dev/colab-wheels/public/simple/\n",
      "Collecting split-folders\n",
      "  Downloading split_folders-0.5.1-py3-none-any.whl (8.4 kB)\n",
      "Installing collected packages: split-folders\n",
      "Successfully installed split-folders-0.5.1\n"
     ]
    }
   ],
   "source": [
    "!pip install split-folders"
   ]
  },
  {
   "cell_type": "code",
   "execution_count": 7,
   "metadata": {
    "colab": {
     "base_uri": "https://localhost:8080/"
    },
    "id": "3YDtt_HRfi6i",
    "outputId": "d191c3ca-84a6-46d8-ce6b-527a5dfa887a"
   },
   "outputs": [
    {
     "name": "stderr",
     "output_type": "stream",
     "text": [
      "Copying files: 3326 files [00:00, 8524.45 files/s]\n"
     ]
    }
   ],
   "source": [
    "import splitfolders\n",
    "splitfolders.ratio('enron_with_categories', output=\"enron_with_categories_split\", seed=32, ratio=(.8, 0.1, 0.1)) "
   ]
  },
  {
   "cell_type": "code",
   "execution_count": 8,
   "metadata": {
    "colab": {
     "base_uri": "https://localhost:8080/"
    },
    "id": "JGAPNdmfflBH",
    "outputId": "a8e2c497-503b-4dc3-9eeb-411056cd2b61"
   },
   "outputs": [
    {
     "name": "stdout",
     "output_type": "stream",
     "text": [
      "test  train  val\n"
     ]
    }
   ],
   "source": [
    "!ls enron_with_categories_split"
   ]
  },
  {
   "cell_type": "markdown",
   "metadata": {
    "id": "R0K_LMBDC978"
   },
   "source": [
    "# Delete cats file"
   ]
  },
  {
   "cell_type": "code",
   "execution_count": 9,
   "metadata": {
    "id": "H6qk7E67fx5c"
   },
   "outputs": [],
   "source": [
    "import glob\n",
    "\n",
    "pattern = r\"enron_with_categories_split/*/*/*.cats\"\n",
    "for item in glob.iglob(pattern, recursive=True):\n",
    "    os.remove(item)"
   ]
  },
  {
   "cell_type": "markdown",
   "metadata": {
    "id": "gj33m_UVRKva"
   },
   "source": [
    "# Class Imbalance\n",
    "#### The classes are imbalanced and very less data available for classes: 2, 3 and 5\n",
    "##### Before trainning, need to use class weight in neural network"
   ]
  },
  {
   "cell_type": "code",
   "execution_count": 10,
   "metadata": {
    "colab": {
     "base_uri": "https://localhost:8080/"
    },
    "id": "NjBFKs5rf_ED",
    "outputId": "a02e1134-fbc7-4ec9-b87d-f49cdc503995"
   },
   "outputs": [
    {
     "name": "stdout",
     "output_type": "stream",
     "text": [
      "there are 3 directories and 0 textfiles in 'enron_with_categories_split'.\n",
      "there are 6 directories and 0 textfiles in 'enron_with_categories_split/train'.\n",
      "there are 0 directories and 28 textfiles in 'enron_with_categories_split/train/2'.\n",
      "there are 0 directories and 113 textfiles in 'enron_with_categories_split/train/6'.\n",
      "there are 0 directories and 61 textfiles in 'enron_with_categories_split/train/5'.\n",
      "there are 0 directories and 375 textfiles in 'enron_with_categories_split/train/4'.\n",
      "there are 0 directories and 673 textfiles in 'enron_with_categories_split/train/1'.\n",
      "there are 0 directories and 85 textfiles in 'enron_with_categories_split/train/3'.\n",
      "there are 6 directories and 0 textfiles in 'enron_with_categories_split/test'.\n",
      "there are 0 directories and 4 textfiles in 'enron_with_categories_split/test/2'.\n",
      "there are 0 directories and 18 textfiles in 'enron_with_categories_split/test/6'.\n",
      "there are 0 directories and 8 textfiles in 'enron_with_categories_split/test/5'.\n",
      "there are 0 directories and 50 textfiles in 'enron_with_categories_split/test/4'.\n",
      "there are 0 directories and 67 textfiles in 'enron_with_categories_split/test/1'.\n",
      "there are 0 directories and 9 textfiles in 'enron_with_categories_split/test/3'.\n",
      "there are 6 directories and 0 textfiles in 'enron_with_categories_split/val'.\n",
      "there are 0 directories and 4 textfiles in 'enron_with_categories_split/val/2'.\n",
      "there are 0 directories and 12 textfiles in 'enron_with_categories_split/val/6'.\n",
      "there are 0 directories and 5 textfiles in 'enron_with_categories_split/val/5'.\n",
      "there are 0 directories and 51 textfiles in 'enron_with_categories_split/val/4'.\n",
      "there are 0 directories and 94 textfiles in 'enron_with_categories_split/val/1'.\n",
      "there are 0 directories and 6 textfiles in 'enron_with_categories_split/val/3'.\n"
     ]
    }
   ],
   "source": [
    "for dirpath, dirnames, filenames in os.walk(\"enron_with_categories_split\"):\n",
    "  print(f\"there are {len(dirnames)} directories and {len(filenames)} textfiles in '{dirpath}'.\") "
   ]
  },
  {
   "cell_type": "code",
   "execution_count": 11,
   "metadata": {
    "colab": {
     "base_uri": "https://localhost:8080/"
    },
    "id": "_1MB3MaJgGCv",
    "outputId": "2659701a-31c0-4fdb-b1c1-a149380afeec"
   },
   "outputs": [
    {
     "name": "stdout",
     "output_type": "stream",
     "text": [
      "['1' '2' '3' '4' '5' '6']\n"
     ]
    }
   ],
   "source": [
    "import pathlib\n",
    "data_dir = pathlib.Path(\"enron_with_categories_split/train\")\n",
    "class_names = np.array(sorted([item.name for item in data_dir.glob(\"*\")]))\n",
    "print(class_names)"
   ]
  },
  {
   "cell_type": "markdown",
   "metadata": {
    "id": "n7VSlDgzDpuh"
   },
   "source": [
    "# Visualize/Read the random data"
   ]
  },
  {
   "cell_type": "code",
   "execution_count": 12,
   "metadata": {
    "colab": {
     "base_uri": "https://localhost:8080/"
    },
    "collapsed": true,
    "id": "acS3kuiPgT0l",
    "jupyter": {
     "outputs_hidden": true
    },
    "outputId": "c64c56f0-a8f7-41c3-ce6a-f69857bd4356",
    "tags": []
   },
   "outputs": [
    {
     "name": "stdout",
     "output_type": "stream",
     "text": [
      "['136409.txt']\n"
     ]
    }
   ],
   "source": [
    "import random\n",
    "\n",
    "def view_text(target_dir, target_class):\n",
    "  target_folder = target_dir+target_class\n",
    "  random_sample = random.sample(os.listdir(target_folder), 1)\n",
    "  print(random_sample)\n",
    "\n",
    "  return random_sample[0]\n",
    "\n",
    "train_path = \"enron_with_categories_split/train/\"\n",
    "class_name = \"1/\"\n",
    "r_text = view_text(train_path, class_name)\n",
    "file1 = open(train_path+class_name+r_text,\"r+\") \n",
    "  \n",
    "#print(file1.read())"
   ]
  },
  {
   "cell_type": "markdown",
   "metadata": {
    "id": "1k6K6_XFDvGd"
   },
   "source": [
    "# Import libraries to clean and tokenize the data"
   ]
  },
  {
   "cell_type": "code",
   "execution_count": 13,
   "metadata": {
    "id": "7k9VfT7Mhven"
   },
   "outputs": [],
   "source": [
    "import gensim\n",
    "from nltk import RegexpTokenizer\n",
    "from nltk.corpus import stopwords\n",
    "from os import listdir\n",
    "from os.path import isfile, join"
   ]
  },
  {
   "cell_type": "markdown",
   "metadata": {
    "id": "_Ty9OEL6EVC0",
    "tags": []
   },
   "source": [
    "# Create list of train,val,test: data and labels"
   ]
  },
  {
   "cell_type": "code",
   "execution_count": 14,
   "metadata": {
    "id": "fcVLjA-xiMlO"
   },
   "outputs": [],
   "source": [
    "#now create a list that contains the name of all the text file in your data #folder\n",
    "docLabels = []\n",
    "data = []\n",
    "train_data = []\n",
    "test_data = []\n",
    "val_data = []\n",
    "y_train = []\n",
    "y_test = []\n",
    "y_val = []\n",
    "\n",
    "for i in range(1,7):\n",
    "  path = \"enron_with_categories_split/train/\" + str(i)\n",
    "  docLabels = [f for f in listdir(path) if f.endswith('.txt')]\n",
    "\n",
    "  for doc in docLabels:\n",
    "    path = 'enron_with_categories_split/train/' + str(i) + '/' + doc\n",
    "    train_data.append(open(path).read())\n",
    "    data.append(open(path).read())\n",
    "    y_train.append(i)\n",
    "\n",
    "  path = \"enron_with_categories_split/test/\" + str(i)\n",
    "  docLabels = [f for f in listdir(path) if f.endswith('.txt')]\n",
    "\n",
    "  for doc in docLabels:\n",
    "    path = 'enron_with_categories_split/test/' + str(i) + '/' + doc\n",
    "    test_data.append(open(path).read())\n",
    "    data.append(open(path).read())\n",
    "    y_test.append(i)\n",
    "\n",
    "  path = \"enron_with_categories_split/val/\" + str(i)\n",
    "  docLabels = [f for f in listdir(path) if f.endswith('.txt')]\n",
    "\n",
    "  for doc in docLabels:\n",
    "    path = 'enron_with_categories_split/val/' + str(i) + '/' + doc\n",
    "    val_data.append(open(path).read())\n",
    "    data.append(open(path).read())\n",
    "    y_val.append(i)"
   ]
  },
  {
   "cell_type": "code",
   "execution_count": 15,
   "metadata": {
    "colab": {
     "base_uri": "https://localhost:8080/"
    },
    "id": "_lttebdcwDOW",
    "outputId": "3717ce47-643b-4fed-c514-8e1342a8849c"
   },
   "outputs": [
    {
     "data": {
      "text/plain": [
       "(1335, 1335, 156, 156, 172, 172, 1663)"
      ]
     },
     "execution_count": 15,
     "metadata": {},
     "output_type": "execute_result"
    }
   ],
   "source": [
    "len(train_data), len(y_train) , len(test_data), len(y_test), len(val_data), len(y_val), len(data)"
   ]
  },
  {
   "cell_type": "markdown",
   "metadata": {
    "id": "NNsXtAecEoZp"
   },
   "source": [
    "# Data Cleaning\n",
    "##### 1. Change all words to lowercase\n",
    "##### 2. Remove numbers\n",
    "##### 3. Use PorterStemmer() for stemming\n",
    "##### 4. Remove stopwords"
   ]
  },
  {
   "cell_type": "code",
   "execution_count": 16,
   "metadata": {
    "colab": {
     "base_uri": "https://localhost:8080/"
    },
    "id": "aKHjC94Gif4p",
    "outputId": "918a029b-e54e-40f6-c4a1-07b961894a58"
   },
   "outputs": [
    {
     "name": "stderr",
     "output_type": "stream",
     "text": [
      "[nltk_data] Downloading package stopwords to /root/nltk_data...\n",
      "[nltk_data]   Unzipping corpora/stopwords.zip.\n"
     ]
    }
   ],
   "source": [
    "import nltk\n",
    "nltk.download('stopwords')\n",
    "from nltk.stem.porter import *\n",
    "tokenizer = RegexpTokenizer(r'\\w+')\n",
    "stopword_set = set(stopwords.words('english'))\n",
    "#This function does all cleaning of data using two objects above\n",
    "def stem_tokens(tokens, stemmer):\n",
    "    stemmed = []\n",
    "    for item in tokens:\n",
    "        stemmed.append(stemmer.stem(item))\n",
    "    return stemmed\n",
    "\n",
    "def nlp_clean(data):\n",
    "   new_data = []\n",
    "   for d in data:\n",
    "      new_str = d.lower()\n",
    "      new_str2 = ''.join([i for i in new_str if not i.isdigit()])\n",
    "      new_str3 = ' '.join([w for w in new_str2.split() if len(w)>3])\n",
    "      dlist = tokenizer.tokenize(new_str3)\n",
    "      stemmer = PorterStemmer()\n",
    "      stemmed = stem_tokens(dlist, stemmer)\n",
    "      dlist = [w for w in stemmed if not w.lower() in stopword_set]  \n",
    "      dlist = []\n",
    "  \n",
    "      for w in stemmed:\n",
    "        if w not in stopword_set:\n",
    "          dlist.append(w)\n",
    "      new_data.append(dlist)\n",
    "   return new_data"
   ]
  },
  {
   "cell_type": "code",
   "execution_count": 17,
   "metadata": {
    "id": "E92LBB3Kiq7m"
   },
   "outputs": [],
   "source": [
    "data = nlp_clean(data) # whole corpus data for Doc2Vec Trainnnig\n",
    "train_data = nlp_clean(train_data)\n",
    "test_data = nlp_clean(test_data)\n",
    "val_data = nlp_clean(val_data)\n"
   ]
  },
  {
   "cell_type": "code",
   "execution_count": 18,
   "metadata": {
    "colab": {
     "base_uri": "https://localhost:8080/"
    },
    "id": "e9quIJidn3x4",
    "outputId": "1b9b0622-4ff9-4774-effa-efcc7d2ab3a6"
   },
   "outputs": [
    {
     "data": {
      "text/plain": [
       "(1663, 1335, 156, 172)"
      ]
     },
     "execution_count": 18,
     "metadata": {},
     "output_type": "execute_result"
    }
   ],
   "source": [
    "len(data), len(train_data), len(test_data), len(val_data)"
   ]
  },
  {
   "cell_type": "markdown",
   "metadata": {
    "id": "x1Hihtn1RKve"
   },
   "source": [
    "# Prepare data for learning Doc2Vec embedding"
   ]
  },
  {
   "cell_type": "code",
   "execution_count": 19,
   "metadata": {
    "id": "XoJ2FcqAn5on"
   },
   "outputs": [],
   "source": [
    "#trainnin_data means train data for doc2vec\n",
    "def tagged_document(list_of_list_of_words):\n",
    "   for i, list_of_words in enumerate(list_of_list_of_words):\n",
    "      yield gensim.models.doc2vec.TaggedDocument(list_of_words, [i])\n",
    "\n",
    "\n",
    "training_data = list(tagged_document(data))"
   ]
  },
  {
   "cell_type": "markdown",
   "metadata": {
    "id": "uNlofZJvRKvf"
   },
   "source": [
    "# Doc2Vec Model \n",
    "###### 1. Learn embedding from the prepared corpus with embedding dimension: 512\n",
    "###### 2. dm=1 was also used to utilize the skip-gram word-vector training with window=2, but results were not significant\n",
    "###### 3. Tried with lower dimensions as well. Embeddings with < 128 were not good enough and was overfitting in the early iterations\n",
    "###### 4. Also, trainning is slower with dm=1 as compare to dm=0 (PV-DBOW) which also worked fine. Due to limited time, I went for dm=0"
   ]
  },
  {
   "cell_type": "code",
   "execution_count": 20,
   "metadata": {
    "id": "B_vcrxAaoNOO"
   },
   "outputs": [],
   "source": [
    "model_pvdbow = gensim.models.doc2vec.Doc2Vec(vector_size=512, epochs=250, dm=0, min_count = 4)\n"
   ]
  },
  {
   "cell_type": "code",
   "execution_count": 21,
   "metadata": {
    "id": "PsBRFZ2UpeqO"
   },
   "outputs": [],
   "source": [
    "model_pvdbow.build_vocab(training_data)"
   ]
  },
  {
   "cell_type": "code",
   "execution_count": 22,
   "metadata": {
    "id": "k6EYZAwOpk2e"
   },
   "outputs": [],
   "source": [
    "model_pvdbow.train(training_data, total_examples=model_pvdbow.corpus_count, epochs=model_pvdbow.epochs)"
   ]
  },
  {
   "cell_type": "code",
   "execution_count": 23,
   "metadata": {
    "id": "ykd12l1NpqGw"
   },
   "outputs": [],
   "source": [
    "#print(model_pvdbow.infer_vector(['I', 'love', 'natural', 'language', 'processing']))"
   ]
  },
  {
   "cell_type": "markdown",
   "metadata": {
    "id": "WnwcW4ueRKvg"
   },
   "source": [
    "# Infer the learnt embeddings"
   ]
  },
  {
   "cell_type": "code",
   "execution_count": 25,
   "metadata": {
    "id": "AULhUT7lwK9s"
   },
   "outputs": [],
   "source": [
    "X_train = []\n",
    "X_val = []\n",
    "X_test = []\n",
    "for i in range(0,len(train_data)):\n",
    "  X_train.append(model_pvdbow.infer_vector(train_data[i]))\n",
    "for i in range(0,len(test_data)):\n",
    "  X_test.append(model_pvdbow.infer_vector(test_data[i]))\n",
    "for i in range(0,len(val_data)):\n",
    "  X_val.append(model_pvdbow.infer_vector(val_data[i]))"
   ]
  },
  {
   "cell_type": "code",
   "execution_count": 26,
   "metadata": {
    "id": "LXPtTHndwMA9"
   },
   "outputs": [],
   "source": [
    "X_train_np = np.array(X_train)\n",
    "X_test_np = np.array(X_test)\n",
    "X_val_np = np.array(X_val)\n",
    "y_train_np = np.array(y_train)\n",
    "y_test_np = np.array(y_test)\n",
    "y_val_np = np.array(y_val)\n",
    "y_train_np = y_train_np.reshape(len(y_train),1)\n",
    "y_test_np = y_test_np.reshape(len(y_test),1)\n",
    "y_val_np = y_val_np.reshape(len(y_val),1)"
   ]
  },
  {
   "cell_type": "code",
   "execution_count": 27,
   "metadata": {
    "colab": {
     "base_uri": "https://localhost:8080/"
    },
    "id": "_-z-fC29-RMe",
    "outputId": "17ccf10b-fdc3-41e8-dbec-ad348032e2e6"
   },
   "outputs": [
    {
     "data": {
      "text/plain": [
       "((1335, 512), (1335, 1), (156, 512), (156, 1), (172, 512), (172, 1))"
      ]
     },
     "execution_count": 27,
     "metadata": {},
     "output_type": "execute_result"
    }
   ],
   "source": [
    "X_train_np.shape, y_train_np.shape, X_test_np.shape, y_test_np.shape, X_val_np.shape, y_val_np.shape"
   ]
  },
  {
   "cell_type": "markdown",
   "metadata": {
    "id": "QmHElOKnRKvg"
   },
   "source": [
    "# Prepare One Hot Encoding for the Labels"
   ]
  },
  {
   "cell_type": "code",
   "execution_count": 28,
   "metadata": {
    "colab": {
     "base_uri": "https://localhost:8080/"
    },
    "id": "AeQsPbeT_Y5s",
    "outputId": "c063ee6d-30b0-4d71-b90f-e99d1a8abd8d"
   },
   "outputs": [
    {
     "name": "stdout",
     "output_type": "stream",
     "text": [
      "(1335, 6) (156, 6) (172, 6)\n"
     ]
    }
   ],
   "source": [
    "from sklearn.preprocessing import OneHotEncoder\n",
    "onehot_encoder = OneHotEncoder(sparse=False)\n",
    "y_train = onehot_encoder.fit_transform(y_train_np)\n",
    "y_test = onehot_encoder.fit_transform(y_test_np)\n",
    "y_val = onehot_encoder.fit_transform(y_val_np)\n",
    "print(y_train.shape, y_test.shape, y_val.shape)"
   ]
  },
  {
   "cell_type": "code",
   "execution_count": 29,
   "metadata": {
    "colab": {
     "base_uri": "https://localhost:8080/"
    },
    "id": "YtntXG4D_Y2v",
    "outputId": "1048d055-21c2-48b7-fe37-39ffde2794f9"
   },
   "outputs": [
    {
     "data": {
      "text/plain": [
       "(1335, 512)"
      ]
     },
     "execution_count": 29,
     "metadata": {},
     "output_type": "execute_result"
    }
   ],
   "source": [
    "X_train_np.shape"
   ]
  },
  {
   "cell_type": "markdown",
   "metadata": {
    "id": "ZFMykLXhRKvh"
   },
   "source": [
    "# Balancing the Class weights\n",
    "##### Generate the class_weights to balance the data"
   ]
  },
  {
   "cell_type": "code",
   "execution_count": 30,
   "metadata": {
    "id": "LJtdfFq7ci0A"
   },
   "outputs": [],
   "source": [
    "import numpy as np\n",
    "from sklearn.utils.class_weight import compute_class_weight\n",
    "from sklearn.preprocessing import MultiLabelBinarizer\n",
    "\n",
    "\n",
    "def generate_class_weights(class_series, multi_class=True, one_hot_encoded=True):\n",
    "  if multi_class:\n",
    "    # If class is one hot encoded, transform to categorical labels to use compute_class_weight   \n",
    "    if one_hot_encoded:\n",
    "      class_series = np.argmax(class_series, axis=1)\n",
    "  \n",
    "    # Compute class weights with sklearn method\n",
    "    class_labels = np.unique(class_series)\n",
    "    class_weights = compute_class_weight(class_weight='balanced', classes=class_labels, y=class_series)\n",
    "    return dict(zip(class_labels, class_weights))"
   ]
  },
  {
   "cell_type": "code",
   "execution_count": 31,
   "metadata": {
    "id": "5wO-_FgJcilA"
   },
   "outputs": [],
   "source": [
    "class_weights = generate_class_weights(y_train)"
   ]
  },
  {
   "cell_type": "markdown",
   "metadata": {
    "id": "OSZIbRyuRKvh"
   },
   "source": [
    "# Shuffle the data\n",
    "\n"
   ]
  },
  {
   "cell_type": "code",
   "execution_count": 32,
   "metadata": {
    "id": "67RI7rTKRjt7"
   },
   "outputs": [],
   "source": [
    "from sklearn.utils import shuffle\n",
    "X_train_np, y_train = shuffle(X_train_np,y_train)"
   ]
  },
  {
   "cell_type": "markdown",
   "metadata": {
    "id": "TXE2M_JzRKvi"
   },
   "source": [
    "# Neural Network\n",
    "#### Simple Feed Forward NN with:\n",
    "##### 1. 6 hidden layers\n",
    "##### 2. Dropout of 0.5 as Model tends to overfit\n",
    "##### 3. Add l2 regularization on weights to avoid overfit\n",
    "##### 4. activation function in each layer is 'elu'\n",
    "###### Note: Even with less parameters, Model works just fine (As the dataset is very small) "
   ]
  },
  {
   "cell_type": "code",
   "execution_count": 33,
   "metadata": {
    "colab": {
     "base_uri": "https://localhost:8080/"
    },
    "id": "NSihkhHH-ZMX",
    "outputId": "69fca95b-044c-4c72-826a-064809837177"
   },
   "outputs": [
    {
     "name": "stdout",
     "output_type": "stream",
     "text": [
      "Model: \"model_1_dense\"\n",
      "_________________________________________________________________\n",
      " Layer (type)                Output Shape              Param #   \n",
      "=================================================================\n",
      " input_1 (InputLayer)        [(None, 512)]             0         \n",
      "                                                                 \n",
      " dense (Dense)               (None, 512)               262656    \n",
      "                                                                 \n",
      " dropout (Dropout)           (None, 512)               0         \n",
      "                                                                 \n",
      " dense_1 (Dense)             (None, 512)               262656    \n",
      "                                                                 \n",
      " dropout_1 (Dropout)         (None, 512)               0         \n",
      "                                                                 \n",
      " dense_2 (Dense)             (None, 512)               262656    \n",
      "                                                                 \n",
      " dropout_2 (Dropout)         (None, 512)               0         \n",
      "                                                                 \n",
      " dense_3 (Dense)             (None, 512)               262656    \n",
      "                                                                 \n",
      " dropout_3 (Dropout)         (None, 512)               0         \n",
      "                                                                 \n",
      " dense_4 (Dense)             (None, 512)               262656    \n",
      "                                                                 \n",
      " dropout_4 (Dropout)         (None, 512)               0         \n",
      "                                                                 \n",
      " dense_5 (Dense)             (None, 512)               262656    \n",
      "                                                                 \n",
      " dense_6 (Dense)             (None, 6)                 3078      \n",
      "                                                                 \n",
      "=================================================================\n",
      "Total params: 1,579,014\n",
      "Trainable params: 1,579,014\n",
      "Non-trainable params: 0\n",
      "_________________________________________________________________\n"
     ]
    }
   ],
   "source": [
    "import tensorflow as tf\n",
    "from tensorflow.keras import layers\n",
    "from tensorflow.keras import regularizers\n",
    "inputs = layers.Input(shape=(512,))\n",
    "x = layers.Dense(512, activation='elu', kernel_regularizer=regularizers.l2(0.01))(inputs)\n",
    "x = layers.Dropout(rate=0.5)(x)\n",
    "x = layers.Dense(512, activation='elu', kernel_regularizer=regularizers.l2(0.01))(x)\n",
    "x = layers.Dropout(rate=0.5)(x)\n",
    "x = layers.Dense(512, activation='elu', kernel_regularizer=regularizers.l2(0.01))(x)\n",
    "x = layers.Dropout(rate=0.5)(x)\n",
    "x = layers.Dense(512, activation='elu', kernel_regularizer=regularizers.l2(0.01))(x)\n",
    "x = layers.Dropout(rate=0.5)(x)\n",
    "x = layers.Dense(512, activation='elu', kernel_regularizer=regularizers.l2(0.01))(x)\n",
    "x = layers.Dropout(rate=0.5)(x)\n",
    "x = layers.Dense(512, activation='elu', kernel_regularizer=regularizers.l2(0.01))(x)\n",
    "outputs = layers.Dense(6,activation='softmax')(x)\n",
    "model3 = tf.keras.Model(inputs,outputs,name=\"model_1_dense\")\n",
    "\n",
    "model3.summary()"
   ]
  },
  {
   "cell_type": "markdown",
   "metadata": {
    "id": "8238C528RKvi"
   },
   "source": [
    "# Model details\n",
    "##### 1. loss: CategoricalCrossentropy\n",
    "##### 2. optimizer: Adam with learning rate: 0.0001 (Tried with default:0.001 but observed fluctuations and was not converging)"
   ]
  },
  {
   "cell_type": "code",
   "execution_count": 34,
   "metadata": {
    "id": "rAM-4lk5DPfz"
   },
   "outputs": [],
   "source": [
    "import tensorflow\n",
    "METRICS = [\n",
    "      'accuracy',\n",
    "      tensorflow.keras.metrics.FalsePositives(name='fp'),\n",
    "      tensorflow.keras.metrics.FalseNegatives(name='fn'),\n",
    "]\n",
    "\n",
    "model3.compile(loss=tf.keras.losses.CategoricalCrossentropy(),\n",
    "                optimizer=tf.keras.optimizers.Adam(learning_rate=0.0001),\n",
    "                metrics = METRICS\n",
    ")"
   ]
  },
  {
   "cell_type": "markdown",
   "metadata": {
    "id": "xsadtGRDRKvi"
   },
   "source": [
    "# Model fit\n",
    "##### 1. batch_size = 64\n",
    "##### 2. epochs = 275\n",
    "##### 3. Use class_weights to pass balanced data"
   ]
  },
  {
   "cell_type": "code",
   "execution_count": 35,
   "metadata": {
    "colab": {
     "base_uri": "https://localhost:8080/"
    },
    "id": "FQbVKFhiDr30",
    "outputId": "6395c29c-87e0-46bc-ae6e-13d08a1b4a74",
    "tags": []
   },
   "outputs": [
    {
     "name": "stdout",
     "output_type": "stream",
     "text": [
      "Epoch 1/275\n",
      "21/21 [==============================] - 4s 25ms/step - loss: 32.7823 - accuracy: 0.1468 - fp: 312.0000 - fn: 1275.0000 - val_loss: 32.1775 - val_accuracy: 0.1628 - val_fp: 0.0000e+00 - val_fn: 172.0000\n",
      "Epoch 2/275\n",
      "21/21 [==============================] - 0s 7ms/step - loss: 32.3605 - accuracy: 0.1865 - fp: 279.0000 - fn: 1274.0000 - val_loss: 31.8922 - val_accuracy: 0.2616 - val_fp: 0.0000e+00 - val_fn: 172.0000\n",
      "Epoch 3/275\n",
      "21/21 [==============================] - 0s 7ms/step - loss: 32.0090 - accuracy: 0.1805 - fp: 247.0000 - fn: 1280.0000 - val_loss: 31.6162 - val_accuracy: 0.2558 - val_fp: 0.0000e+00 - val_fn: 172.0000\n",
      "Epoch 4/275\n",
      "21/21 [==============================] - 0s 6ms/step - loss: 31.6589 - accuracy: 0.2015 - fp: 229.0000 - fn: 1279.0000 - val_loss: 31.2994 - val_accuracy: 0.2965 - val_fp: 0.0000e+00 - val_fn: 172.0000\n",
      "Epoch 5/275\n",
      "21/21 [==============================] - 0s 6ms/step - loss: 31.3429 - accuracy: 0.2157 - fp: 179.0000 - fn: 1282.0000 - val_loss: 30.9884 - val_accuracy: 0.3256 - val_fp: 0.0000e+00 - val_fn: 172.0000\n",
      "Epoch 6/275\n",
      "21/21 [==============================] - 0s 7ms/step - loss: 31.0216 - accuracy: 0.2255 - fp: 171.0000 - fn: 1270.0000 - val_loss: 30.7207 - val_accuracy: 0.2907 - val_fp: 0.0000e+00 - val_fn: 172.0000\n",
      "Epoch 7/275\n",
      "21/21 [==============================] - 0s 6ms/step - loss: 30.6950 - accuracy: 0.2330 - fp: 167.0000 - fn: 1272.0000 - val_loss: 30.4376 - val_accuracy: 0.3081 - val_fp: 0.0000e+00 - val_fn: 172.0000\n",
      "Epoch 8/275\n",
      "21/21 [==============================] - 0s 7ms/step - loss: 30.3267 - accuracy: 0.2517 - fp: 136.0000 - fn: 1278.0000 - val_loss: 30.1160 - val_accuracy: 0.2965 - val_fp: 1.0000 - val_fn: 172.0000\n",
      "Epoch 9/275\n",
      "21/21 [==============================] - 0s 6ms/step - loss: 30.0214 - accuracy: 0.2524 - fp: 166.0000 - fn: 1273.0000 - val_loss: 29.8187 - val_accuracy: 0.3314 - val_fp: 1.0000 - val_fn: 170.0000\n",
      "Epoch 10/275\n",
      "21/21 [==============================] - 0s 7ms/step - loss: 29.6424 - accuracy: 0.2831 - fp: 143.0000 - fn: 1262.0000 - val_loss: 29.5080 - val_accuracy: 0.3488 - val_fp: 1.0000 - val_fn: 170.0000\n",
      "Epoch 11/275\n",
      "21/21 [==============================] - 0s 6ms/step - loss: 29.3670 - accuracy: 0.2921 - fp: 140.0000 - fn: 1257.0000 - val_loss: 29.1963 - val_accuracy: 0.3837 - val_fp: 1.0000 - val_fn: 170.0000\n",
      "Epoch 12/275\n",
      "21/21 [==============================] - 0s 6ms/step - loss: 29.0010 - accuracy: 0.2974 - fp: 165.0000 - fn: 1247.0000 - val_loss: 28.8910 - val_accuracy: 0.3547 - val_fp: 5.0000 - val_fn: 169.0000\n",
      "Epoch 13/275\n",
      "21/21 [==============================] - 0s 8ms/step - loss: 28.6354 - accuracy: 0.3071 - fp: 156.0000 - fn: 1222.0000 - val_loss: 28.5988 - val_accuracy: 0.3372 - val_fp: 7.0000 - val_fn: 168.0000\n",
      "Epoch 14/275\n",
      "21/21 [==============================] - 0s 7ms/step - loss: 28.2806 - accuracy: 0.3139 - fp: 171.0000 - fn: 1215.0000 - val_loss: 28.2813 - val_accuracy: 0.3488 - val_fp: 8.0000 - val_fn: 166.0000\n",
      "Epoch 15/275\n",
      "21/21 [==============================] - 0s 7ms/step - loss: 27.9498 - accuracy: 0.3528 - fp: 172.0000 - fn: 1204.0000 - val_loss: 27.9504 - val_accuracy: 0.3663 - val_fp: 12.0000 - val_fn: 162.0000\n",
      "Epoch 16/275\n",
      "21/21 [==============================] - 0s 7ms/step - loss: 27.6703 - accuracy: 0.3363 - fp: 183.0000 - fn: 1179.0000 - val_loss: 27.6183 - val_accuracy: 0.4012 - val_fp: 12.0000 - val_fn: 157.0000\n",
      "Epoch 17/275\n",
      "21/21 [==============================] - 0s 6ms/step - loss: 27.2880 - accuracy: 0.3880 - fp: 191.0000 - fn: 1173.0000 - val_loss: 27.3446 - val_accuracy: 0.3779 - val_fp: 19.0000 - val_fn: 153.0000\n",
      "Epoch 18/275\n",
      "21/21 [==============================] - 0s 7ms/step - loss: 26.9205 - accuracy: 0.3783 - fp: 208.0000 - fn: 1160.0000 - val_loss: 27.0039 - val_accuracy: 0.4070 - val_fp: 23.0000 - val_fn: 152.0000\n",
      "Epoch 19/275\n",
      "21/21 [==============================] - 0s 8ms/step - loss: 26.5705 - accuracy: 0.4262 - fp: 234.0000 - fn: 1119.0000 - val_loss: 26.6856 - val_accuracy: 0.4244 - val_fp: 26.0000 - val_fn: 150.0000\n",
      "Epoch 20/275\n",
      "21/21 [==============================] - 0s 7ms/step - loss: 26.2773 - accuracy: 0.3918 - fp: 245.0000 - fn: 1096.0000 - val_loss: 26.4057 - val_accuracy: 0.4070 - val_fp: 25.0000 - val_fn: 147.0000\n",
      "Epoch 21/275\n",
      "21/21 [==============================] - 0s 7ms/step - loss: 25.9795 - accuracy: 0.4157 - fp: 243.0000 - fn: 1088.0000 - val_loss: 26.0782 - val_accuracy: 0.4593 - val_fp: 24.0000 - val_fn: 144.0000\n",
      "Epoch 22/275\n",
      "21/21 [==============================] - 0s 7ms/step - loss: 25.6403 - accuracy: 0.4637 - fp: 222.0000 - fn: 1062.0000 - val_loss: 25.7743 - val_accuracy: 0.4535 - val_fp: 31.0000 - val_fn: 139.0000\n",
      "Epoch 23/275\n",
      "21/21 [==============================] - 0s 6ms/step - loss: 25.2846 - accuracy: 0.4479 - fp: 256.0000 - fn: 1057.0000 - val_loss: 25.4435 - val_accuracy: 0.4709 - val_fp: 34.0000 - val_fn: 138.0000\n",
      "Epoch 24/275\n",
      "21/21 [==============================] - 0s 6ms/step - loss: 24.9137 - accuracy: 0.4891 - fp: 241.0000 - fn: 973.0000 - val_loss: 25.0819 - val_accuracy: 0.5058 - val_fp: 31.0000 - val_fn: 127.0000\n",
      "Epoch 25/275\n",
      "21/21 [==============================] - 0s 7ms/step - loss: 24.6579 - accuracy: 0.5221 - fp: 254.0000 - fn: 948.0000 - val_loss: 24.8197 - val_accuracy: 0.4826 - val_fp: 36.0000 - val_fn: 122.0000\n",
      "Epoch 26/275\n",
      "21/21 [==============================] - 0s 7ms/step - loss: 24.3038 - accuracy: 0.4959 - fp: 267.0000 - fn: 957.0000 - val_loss: 24.5602 - val_accuracy: 0.4826 - val_fp: 39.0000 - val_fn: 119.0000\n",
      "Epoch 27/275\n",
      "21/21 [==============================] - 0s 6ms/step - loss: 23.9702 - accuracy: 0.5199 - fp: 275.0000 - fn: 920.0000 - val_loss: 24.1626 - val_accuracy: 0.5349 - val_fp: 39.0000 - val_fn: 113.0000\n",
      "Epoch 28/275\n",
      "21/21 [==============================] - 0s 7ms/step - loss: 23.6689 - accuracy: 0.5536 - fp: 261.0000 - fn: 870.0000 - val_loss: 23.8504 - val_accuracy: 0.5407 - val_fp: 39.0000 - val_fn: 109.0000\n",
      "Epoch 29/275\n",
      "21/21 [==============================] - 0s 6ms/step - loss: 23.3334 - accuracy: 0.5640 - fp: 257.0000 - fn: 839.0000 - val_loss: 23.5645 - val_accuracy: 0.5291 - val_fp: 39.0000 - val_fn: 105.0000\n",
      "Epoch 30/275\n",
      "21/21 [==============================] - 0s 6ms/step - loss: 23.0412 - accuracy: 0.5648 - fp: 266.0000 - fn: 854.0000 - val_loss: 23.2585 - val_accuracy: 0.5523 - val_fp: 43.0000 - val_fn: 100.0000\n",
      "Epoch 31/275\n",
      "21/21 [==============================] - 0s 7ms/step - loss: 22.7556 - accuracy: 0.5461 - fp: 284.0000 - fn: 835.0000 - val_loss: 22.9537 - val_accuracy: 0.5640 - val_fp: 43.0000 - val_fn: 97.0000\n",
      "Epoch 32/275\n",
      "21/21 [==============================] - 0s 7ms/step - loss: 22.3991 - accuracy: 0.5828 - fp: 276.0000 - fn: 781.0000 - val_loss: 22.5856 - val_accuracy: 0.5640 - val_fp: 43.0000 - val_fn: 89.0000\n",
      "Epoch 33/275\n",
      "21/21 [==============================] - 0s 7ms/step - loss: 22.1111 - accuracy: 0.6045 - fp: 264.0000 - fn: 768.0000 - val_loss: 22.2870 - val_accuracy: 0.5756 - val_fp: 43.0000 - val_fn: 85.0000\n",
      "Epoch 34/275\n",
      "21/21 [==============================] - 0s 7ms/step - loss: 21.7713 - accuracy: 0.6007 - fp: 270.0000 - fn: 717.0000 - val_loss: 22.0358 - val_accuracy: 0.5814 - val_fp: 44.0000 - val_fn: 85.0000\n",
      "Epoch 35/275\n",
      "21/21 [==============================] - 0s 7ms/step - loss: 21.4791 - accuracy: 0.5985 - fp: 297.0000 - fn: 722.0000 - val_loss: 21.7001 - val_accuracy: 0.5814 - val_fp: 43.0000 - val_fn: 82.0000\n",
      "Epoch 36/275\n",
      "21/21 [==============================] - 0s 7ms/step - loss: 21.1146 - accuracy: 0.6517 - fp: 255.0000 - fn: 656.0000 - val_loss: 21.4002 - val_accuracy: 0.5930 - val_fp: 45.0000 - val_fn: 82.0000\n",
      "Epoch 37/275\n",
      "21/21 [==============================] - 0s 7ms/step - loss: 20.8276 - accuracy: 0.6292 - fp: 270.0000 - fn: 667.0000 - val_loss: 21.0815 - val_accuracy: 0.6105 - val_fp: 41.0000 - val_fn: 80.0000\n",
      "Epoch 38/275\n",
      "21/21 [==============================] - 0s 6ms/step - loss: 20.5451 - accuracy: 0.6509 - fp: 286.0000 - fn: 610.0000 - val_loss: 20.7809 - val_accuracy: 0.6221 - val_fp: 43.0000 - val_fn: 79.0000\n",
      "Epoch 39/275\n",
      "21/21 [==============================] - 0s 6ms/step - loss: 20.2418 - accuracy: 0.6652 - fp: 259.0000 - fn: 598.0000 - val_loss: 20.5250 - val_accuracy: 0.5930 - val_fp: 44.0000 - val_fn: 81.0000\n",
      "Epoch 40/275\n",
      "21/21 [==============================] - 0s 7ms/step - loss: 19.9556 - accuracy: 0.6419 - fp: 280.0000 - fn: 631.0000 - val_loss: 20.2146 - val_accuracy: 0.6047 - val_fp: 42.0000 - val_fn: 79.0000\n",
      "Epoch 41/275\n",
      "21/21 [==============================] - 0s 7ms/step - loss: 19.6240 - accuracy: 0.6584 - fp: 261.0000 - fn: 605.0000 - val_loss: 19.9118 - val_accuracy: 0.6221 - val_fp: 42.0000 - val_fn: 79.0000\n",
      "Epoch 42/275\n",
      "21/21 [==============================] - 0s 7ms/step - loss: 19.3368 - accuracy: 0.6667 - fp: 274.0000 - fn: 576.0000 - val_loss: 19.6146 - val_accuracy: 0.6279 - val_fp: 40.0000 - val_fn: 77.0000\n",
      "Epoch 43/275\n",
      "21/21 [==============================] - 0s 7ms/step - loss: 19.0447 - accuracy: 0.6524 - fp: 291.0000 - fn: 583.0000 - val_loss: 19.3391 - val_accuracy: 0.6279 - val_fp: 42.0000 - val_fn: 77.0000\n",
      "Epoch 44/275\n",
      "21/21 [==============================] - 0s 7ms/step - loss: 18.8089 - accuracy: 0.6637 - fp: 299.0000 - fn: 579.0000 - val_loss: 19.0340 - val_accuracy: 0.6337 - val_fp: 42.0000 - val_fn: 75.0000\n",
      "Epoch 45/275\n",
      "21/21 [==============================] - 0s 7ms/step - loss: 18.4793 - accuracy: 0.6914 - fp: 265.0000 - fn: 525.0000 - val_loss: 18.7584 - val_accuracy: 0.6453 - val_fp: 38.0000 - val_fn: 73.0000\n",
      "Epoch 46/275\n",
      "21/21 [==============================] - 0s 6ms/step - loss: 18.1855 - accuracy: 0.6861 - fp: 259.0000 - fn: 542.0000 - val_loss: 18.4897 - val_accuracy: 0.6395 - val_fp: 41.0000 - val_fn: 73.0000\n",
      "Epoch 47/275\n",
      "21/21 [==============================] - 0s 7ms/step - loss: 17.8951 - accuracy: 0.7004 - fp: 258.0000 - fn: 517.0000 - val_loss: 18.2143 - val_accuracy: 0.6337 - val_fp: 40.0000 - val_fn: 72.0000\n",
      "Epoch 48/275\n",
      "21/21 [==============================] - 0s 8ms/step - loss: 17.6250 - accuracy: 0.6929 - fp: 270.0000 - fn: 508.0000 - val_loss: 17.9034 - val_accuracy: 0.6570 - val_fp: 38.0000 - val_fn: 70.0000\n",
      "Epoch 49/275\n",
      "21/21 [==============================] - 0s 7ms/step - loss: 17.3244 - accuracy: 0.7116 - fp: 254.0000 - fn: 492.0000 - val_loss: 17.6189 - val_accuracy: 0.6686 - val_fp: 39.0000 - val_fn: 71.0000\n",
      "Epoch 50/275\n",
      "21/21 [==============================] - 0s 7ms/step - loss: 17.0451 - accuracy: 0.7139 - fp: 259.0000 - fn: 489.0000 - val_loss: 17.3600 - val_accuracy: 0.6570 - val_fp: 40.0000 - val_fn: 71.0000\n",
      "Epoch 51/275\n",
      "21/21 [==============================] - 0s 6ms/step - loss: 16.7737 - accuracy: 0.7348 - fp: 227.0000 - fn: 440.0000 - val_loss: 17.0995 - val_accuracy: 0.6570 - val_fp: 39.0000 - val_fn: 69.0000\n",
      "Epoch 52/275\n",
      "21/21 [==============================] - 0s 7ms/step - loss: 16.5022 - accuracy: 0.7281 - fp: 249.0000 - fn: 465.0000 - val_loss: 16.8325 - val_accuracy: 0.6512 - val_fp: 43.0000 - val_fn: 71.0000\n",
      "Epoch 53/275\n",
      "21/21 [==============================] - 0s 7ms/step - loss: 16.2216 - accuracy: 0.7356 - fp: 240.0000 - fn: 428.0000 - val_loss: 16.5463 - val_accuracy: 0.6512 - val_fp: 40.0000 - val_fn: 71.0000\n",
      "Epoch 54/275\n",
      "21/21 [==============================] - 0s 7ms/step - loss: 15.9709 - accuracy: 0.7213 - fp: 259.0000 - fn: 464.0000 - val_loss: 16.3270 - val_accuracy: 0.6337 - val_fp: 39.0000 - val_fn: 74.0000\n",
      "Epoch 55/275\n",
      "21/21 [==============================] - 0s 7ms/step - loss: 15.6863 - accuracy: 0.7341 - fp: 251.0000 - fn: 437.0000 - val_loss: 16.0498 - val_accuracy: 0.6512 - val_fp: 41.0000 - val_fn: 70.0000\n",
      "Epoch 56/275\n",
      "21/21 [==============================] - 0s 7ms/step - loss: 15.4147 - accuracy: 0.7558 - fp: 226.0000 - fn: 404.0000 - val_loss: 15.7957 - val_accuracy: 0.6453 - val_fp: 43.0000 - val_fn: 69.0000\n",
      "Epoch 57/275\n",
      "21/21 [==============================] - 0s 7ms/step - loss: 15.1464 - accuracy: 0.7348 - fp: 256.0000 - fn: 441.0000 - val_loss: 15.5252 - val_accuracy: 0.6686 - val_fp: 44.0000 - val_fn: 67.0000\n",
      "Epoch 58/275\n",
      "21/21 [==============================] - 0s 7ms/step - loss: 14.9038 - accuracy: 0.7551 - fp: 233.0000 - fn: 403.0000 - val_loss: 15.2586 - val_accuracy: 0.6628 - val_fp: 41.0000 - val_fn: 66.0000\n",
      "Epoch 59/275\n",
      "21/21 [==============================] - 0s 6ms/step - loss: 14.6311 - accuracy: 0.7633 - fp: 223.0000 - fn: 377.0000 - val_loss: 15.0294 - val_accuracy: 0.6628 - val_fp: 44.0000 - val_fn: 67.0000\n",
      "Epoch 60/275\n",
      "21/21 [==============================] - 0s 7ms/step - loss: 14.3882 - accuracy: 0.7640 - fp: 226.0000 - fn: 399.0000 - val_loss: 14.7799 - val_accuracy: 0.6628 - val_fp: 44.0000 - val_fn: 69.0000\n",
      "Epoch 61/275\n",
      "21/21 [==============================] - 0s 7ms/step - loss: 14.1323 - accuracy: 0.7566 - fp: 231.0000 - fn: 400.0000 - val_loss: 14.5290 - val_accuracy: 0.6744 - val_fp: 46.0000 - val_fn: 67.0000\n",
      "Epoch 62/275\n",
      "21/21 [==============================] - 0s 7ms/step - loss: 13.8789 - accuracy: 0.7708 - fp: 233.0000 - fn: 381.0000 - val_loss: 14.3071 - val_accuracy: 0.6686 - val_fp: 46.0000 - val_fn: 69.0000\n",
      "Epoch 63/275\n",
      "21/21 [==============================] - 0s 6ms/step - loss: 13.6384 - accuracy: 0.7678 - fp: 231.0000 - fn: 367.0000 - val_loss: 14.0421 - val_accuracy: 0.6744 - val_fp: 44.0000 - val_fn: 63.0000\n",
      "Epoch 64/275\n",
      "21/21 [==============================] - 0s 7ms/step - loss: 13.4060 - accuracy: 0.7708 - fp: 224.0000 - fn: 380.0000 - val_loss: 13.8376 - val_accuracy: 0.6628 - val_fp: 47.0000 - val_fn: 68.0000\n",
      "Epoch 65/275\n",
      "21/21 [==============================] - 0s 7ms/step - loss: 13.1514 - accuracy: 0.7551 - fp: 248.0000 - fn: 384.0000 - val_loss: 13.5991 - val_accuracy: 0.6802 - val_fp: 46.0000 - val_fn: 68.0000\n",
      "Epoch 66/275\n",
      "21/21 [==============================] - 0s 7ms/step - loss: 12.9195 - accuracy: 0.7655 - fp: 234.0000 - fn: 368.0000 - val_loss: 13.3469 - val_accuracy: 0.6744 - val_fp: 47.0000 - val_fn: 68.0000\n",
      "Epoch 67/275\n",
      "21/21 [==============================] - 0s 8ms/step - loss: 12.6979 - accuracy: 0.7708 - fp: 233.0000 - fn: 372.0000 - val_loss: 13.1206 - val_accuracy: 0.6686 - val_fp: 44.0000 - val_fn: 67.0000\n",
      "Epoch 68/275\n",
      "21/21 [==============================] - 0s 7ms/step - loss: 12.4462 - accuracy: 0.7783 - fp: 226.0000 - fn: 348.0000 - val_loss: 12.8706 - val_accuracy: 0.6744 - val_fp: 43.0000 - val_fn: 65.0000\n",
      "Epoch 69/275\n",
      "21/21 [==============================] - 0s 7ms/step - loss: 12.2255 - accuracy: 0.7760 - fp: 236.0000 - fn: 358.0000 - val_loss: 12.6439 - val_accuracy: 0.6860 - val_fp: 42.0000 - val_fn: 65.0000\n",
      "Epoch 70/275\n",
      "21/21 [==============================] - 0s 7ms/step - loss: 11.9869 - accuracy: 0.7918 - fp: 200.0000 - fn: 341.0000 - val_loss: 12.4257 - val_accuracy: 0.6860 - val_fp: 43.0000 - val_fn: 66.0000\n",
      "Epoch 71/275\n",
      "21/21 [==============================] - 0s 7ms/step - loss: 11.7703 - accuracy: 0.7798 - fp: 217.0000 - fn: 358.0000 - val_loss: 12.2163 - val_accuracy: 0.6744 - val_fp: 42.0000 - val_fn: 66.0000\n",
      "Epoch 72/275\n",
      "21/21 [==============================] - 0s 7ms/step - loss: 11.5354 - accuracy: 0.7985 - fp: 202.0000 - fn: 333.0000 - val_loss: 12.0051 - val_accuracy: 0.6686 - val_fp: 45.0000 - val_fn: 66.0000\n",
      "Epoch 73/275\n",
      "21/21 [==============================] - 0s 7ms/step - loss: 11.3237 - accuracy: 0.7813 - fp: 217.0000 - fn: 364.0000 - val_loss: 11.7679 - val_accuracy: 0.7151 - val_fp: 44.0000 - val_fn: 59.0000\n",
      "Epoch 74/275\n",
      "21/21 [==============================] - 0s 7ms/step - loss: 11.0927 - accuracy: 0.7978 - fp: 212.0000 - fn: 325.0000 - val_loss: 11.5692 - val_accuracy: 0.6744 - val_fp: 44.0000 - val_fn: 63.0000\n",
      "Epoch 75/275\n",
      "21/21 [==============================] - 0s 7ms/step - loss: 10.8866 - accuracy: 0.7933 - fp: 214.0000 - fn: 344.0000 - val_loss: 11.3677 - val_accuracy: 0.7035 - val_fp: 43.0000 - val_fn: 60.0000\n",
      "Epoch 76/275\n",
      "21/21 [==============================] - 0s 7ms/step - loss: 10.6673 - accuracy: 0.7948 - fp: 193.0000 - fn: 328.0000 - val_loss: 11.1465 - val_accuracy: 0.7151 - val_fp: 43.0000 - val_fn: 60.0000\n",
      "Epoch 77/275\n",
      "21/21 [==============================] - 0s 7ms/step - loss: 10.4635 - accuracy: 0.7948 - fp: 212.0000 - fn: 313.0000 - val_loss: 10.9417 - val_accuracy: 0.6977 - val_fp: 44.0000 - val_fn: 61.0000\n",
      "Epoch 78/275\n",
      "21/21 [==============================] - 0s 7ms/step - loss: 10.2393 - accuracy: 0.8075 - fp: 184.0000 - fn: 316.0000 - val_loss: 10.7080 - val_accuracy: 0.7035 - val_fp: 43.0000 - val_fn: 57.0000\n",
      "Epoch 79/275\n",
      "21/21 [==============================] - 0s 7ms/step - loss: 10.0460 - accuracy: 0.8142 - fp: 191.0000 - fn: 306.0000 - val_loss: 10.5228 - val_accuracy: 0.7151 - val_fp: 41.0000 - val_fn: 55.0000\n",
      "Epoch 80/275\n",
      "21/21 [==============================] - 0s 7ms/step - loss: 9.8412 - accuracy: 0.8082 - fp: 194.0000 - fn: 312.0000 - val_loss: 10.3641 - val_accuracy: 0.6860 - val_fp: 43.0000 - val_fn: 59.0000\n",
      "Epoch 81/275\n",
      "21/21 [==============================] - 0s 7ms/step - loss: 9.6421 - accuracy: 0.8135 - fp: 179.0000 - fn: 298.0000 - val_loss: 10.1694 - val_accuracy: 0.6919 - val_fp: 43.0000 - val_fn: 62.0000\n",
      "Epoch 82/275\n",
      "21/21 [==============================] - 0s 7ms/step - loss: 9.4561 - accuracy: 0.8090 - fp: 181.0000 - fn: 314.0000 - val_loss: 9.9690 - val_accuracy: 0.7151 - val_fp: 40.0000 - val_fn: 57.0000\n",
      "Epoch 83/275\n",
      "21/21 [==============================] - 0s 7ms/step - loss: 9.2782 - accuracy: 0.8150 - fp: 191.0000 - fn: 300.0000 - val_loss: 9.7843 - val_accuracy: 0.6977 - val_fp: 44.0000 - val_fn: 58.0000\n",
      "Epoch 84/275\n",
      "21/21 [==============================] - 0s 7ms/step - loss: 9.0710 - accuracy: 0.8232 - fp: 177.0000 - fn: 286.0000 - val_loss: 9.6071 - val_accuracy: 0.7035 - val_fp: 42.0000 - val_fn: 57.0000\n",
      "Epoch 85/275\n",
      "21/21 [==============================] - 0s 7ms/step - loss: 8.8803 - accuracy: 0.8390 - fp: 165.0000 - fn: 268.0000 - val_loss: 9.4199 - val_accuracy: 0.7093 - val_fp: 42.0000 - val_fn: 55.0000\n",
      "Epoch 86/275\n",
      "21/21 [==============================] - 0s 7ms/step - loss: 8.6964 - accuracy: 0.8247 - fp: 189.0000 - fn: 277.0000 - val_loss: 9.2420 - val_accuracy: 0.7093 - val_fp: 43.0000 - val_fn: 57.0000\n",
      "Epoch 87/275\n",
      "21/21 [==============================] - 0s 7ms/step - loss: 8.5164 - accuracy: 0.8330 - fp: 179.0000 - fn: 265.0000 - val_loss: 9.0560 - val_accuracy: 0.7209 - val_fp: 42.0000 - val_fn: 55.0000\n",
      "Epoch 88/275\n",
      "21/21 [==============================] - 0s 7ms/step - loss: 8.3440 - accuracy: 0.8322 - fp: 163.0000 - fn: 264.0000 - val_loss: 8.9176 - val_accuracy: 0.6919 - val_fp: 44.0000 - val_fn: 58.0000\n",
      "Epoch 89/275\n",
      "21/21 [==============================] - 0s 7ms/step - loss: 8.1582 - accuracy: 0.8419 - fp: 168.0000 - fn: 246.0000 - val_loss: 8.7022 - val_accuracy: 0.7093 - val_fp: 41.0000 - val_fn: 56.0000\n",
      "Epoch 90/275\n",
      "21/21 [==============================] - 0s 7ms/step - loss: 7.9882 - accuracy: 0.8307 - fp: 163.0000 - fn: 266.0000 - val_loss: 8.5602 - val_accuracy: 0.6860 - val_fp: 43.0000 - val_fn: 59.0000\n",
      "Epoch 91/275\n",
      "21/21 [==============================] - 0s 7ms/step - loss: 7.8335 - accuracy: 0.8315 - fp: 176.0000 - fn: 274.0000 - val_loss: 8.3638 - val_accuracy: 0.6977 - val_fp: 44.0000 - val_fn: 57.0000\n",
      "Epoch 92/275\n",
      "21/21 [==============================] - 0s 6ms/step - loss: 7.6640 - accuracy: 0.8345 - fp: 161.0000 - fn: 263.0000 - val_loss: 8.2226 - val_accuracy: 0.6919 - val_fp: 44.0000 - val_fn: 60.0000\n",
      "Epoch 93/275\n",
      "21/21 [==============================] - 0s 7ms/step - loss: 7.4961 - accuracy: 0.8427 - fp: 155.0000 - fn: 264.0000 - val_loss: 8.0491 - val_accuracy: 0.6860 - val_fp: 44.0000 - val_fn: 62.0000\n",
      "Epoch 94/275\n",
      "21/21 [==============================] - 0s 7ms/step - loss: 7.3390 - accuracy: 0.8285 - fp: 168.0000 - fn: 275.0000 - val_loss: 7.9103 - val_accuracy: 0.6977 - val_fp: 43.0000 - val_fn: 61.0000\n",
      "Epoch 95/275\n",
      "21/21 [==============================] - 0s 7ms/step - loss: 7.1707 - accuracy: 0.8360 - fp: 165.0000 - fn: 266.0000 - val_loss: 7.7416 - val_accuracy: 0.6919 - val_fp: 44.0000 - val_fn: 58.0000\n",
      "Epoch 96/275\n",
      "21/21 [==============================] - 0s 6ms/step - loss: 7.0089 - accuracy: 0.8345 - fp: 161.0000 - fn: 260.0000 - val_loss: 7.5817 - val_accuracy: 0.7035 - val_fp: 40.0000 - val_fn: 57.0000\n",
      "Epoch 97/275\n",
      "21/21 [==============================] - 0s 6ms/step - loss: 6.8657 - accuracy: 0.8360 - fp: 169.0000 - fn: 263.0000 - val_loss: 7.4705 - val_accuracy: 0.6919 - val_fp: 43.0000 - val_fn: 60.0000\n",
      "Epoch 98/275\n",
      "21/21 [==============================] - 0s 6ms/step - loss: 6.7145 - accuracy: 0.8322 - fp: 160.0000 - fn: 267.0000 - val_loss: 7.3244 - val_accuracy: 0.7093 - val_fp: 41.0000 - val_fn: 61.0000\n",
      "Epoch 99/275\n",
      "21/21 [==============================] - 0s 6ms/step - loss: 6.5549 - accuracy: 0.8382 - fp: 163.0000 - fn: 260.0000 - val_loss: 7.1548 - val_accuracy: 0.7209 - val_fp: 37.0000 - val_fn: 55.0000\n",
      "Epoch 100/275\n",
      "21/21 [==============================] - 0s 7ms/step - loss: 6.4139 - accuracy: 0.8472 - fp: 165.0000 - fn: 244.0000 - val_loss: 7.0378 - val_accuracy: 0.7035 - val_fp: 41.0000 - val_fn: 60.0000\n",
      "Epoch 101/275\n",
      "21/21 [==============================] - 0s 6ms/step - loss: 6.2725 - accuracy: 0.8419 - fp: 168.0000 - fn: 260.0000 - val_loss: 6.8888 - val_accuracy: 0.7151 - val_fp: 40.0000 - val_fn: 56.0000\n",
      "Epoch 102/275\n",
      "21/21 [==============================] - 0s 6ms/step - loss: 6.1376 - accuracy: 0.8397 - fp: 168.0000 - fn: 271.0000 - val_loss: 6.7686 - val_accuracy: 0.6802 - val_fp: 46.0000 - val_fn: 61.0000\n",
      "Epoch 103/275\n",
      "21/21 [==============================] - 0s 7ms/step - loss: 6.0022 - accuracy: 0.8434 - fp: 162.0000 - fn: 253.0000 - val_loss: 6.6238 - val_accuracy: 0.7151 - val_fp: 38.0000 - val_fn: 59.0000\n",
      "Epoch 104/275\n",
      "21/21 [==============================] - 0s 6ms/step - loss: 5.8682 - accuracy: 0.8464 - fp: 158.0000 - fn: 259.0000 - val_loss: 6.5030 - val_accuracy: 0.6860 - val_fp: 43.0000 - val_fn: 58.0000\n",
      "Epoch 105/275\n",
      "21/21 [==============================] - 0s 7ms/step - loss: 5.7201 - accuracy: 0.8592 - fp: 140.0000 - fn: 237.0000 - val_loss: 6.3583 - val_accuracy: 0.7035 - val_fp: 41.0000 - val_fn: 55.0000\n",
      "Epoch 106/275\n",
      "21/21 [==============================] - 0s 7ms/step - loss: 5.5979 - accuracy: 0.8592 - fp: 157.0000 - fn: 224.0000 - val_loss: 6.2486 - val_accuracy: 0.7093 - val_fp: 40.0000 - val_fn: 57.0000\n",
      "Epoch 107/275\n",
      "21/21 [==============================] - 0s 8ms/step - loss: 5.4623 - accuracy: 0.8494 - fp: 147.0000 - fn: 240.0000 - val_loss: 6.1209 - val_accuracy: 0.6977 - val_fp: 41.0000 - val_fn: 57.0000\n",
      "Epoch 108/275\n",
      "21/21 [==============================] - 0s 7ms/step - loss: 5.3480 - accuracy: 0.8652 - fp: 134.0000 - fn: 235.0000 - val_loss: 6.0166 - val_accuracy: 0.6919 - val_fp: 42.0000 - val_fn: 59.0000\n",
      "Epoch 109/275\n",
      "21/21 [==============================] - 0s 7ms/step - loss: 5.2226 - accuracy: 0.8614 - fp: 143.0000 - fn: 229.0000 - val_loss: 5.8837 - val_accuracy: 0.7035 - val_fp: 41.0000 - val_fn: 55.0000\n",
      "Epoch 110/275\n",
      "21/21 [==============================] - 0s 7ms/step - loss: 5.1097 - accuracy: 0.8554 - fp: 150.0000 - fn: 246.0000 - val_loss: 5.7577 - val_accuracy: 0.6977 - val_fp: 44.0000 - val_fn: 58.0000\n",
      "Epoch 111/275\n",
      "21/21 [==============================] - 0s 7ms/step - loss: 4.9882 - accuracy: 0.8689 - fp: 135.0000 - fn: 217.0000 - val_loss: 5.6714 - val_accuracy: 0.6919 - val_fp: 42.0000 - val_fn: 60.0000\n",
      "Epoch 112/275\n",
      "21/21 [==============================] - 0s 7ms/step - loss: 4.8590 - accuracy: 0.8689 - fp: 133.0000 - fn: 206.0000 - val_loss: 5.5236 - val_accuracy: 0.7093 - val_fp: 43.0000 - val_fn: 57.0000\n",
      "Epoch 113/275\n",
      "21/21 [==============================] - 0s 7ms/step - loss: 4.7616 - accuracy: 0.8682 - fp: 139.0000 - fn: 214.0000 - val_loss: 5.4398 - val_accuracy: 0.6802 - val_fp: 47.0000 - val_fn: 61.0000\n",
      "Epoch 114/275\n",
      "21/21 [==============================] - 0s 7ms/step - loss: 4.6471 - accuracy: 0.8652 - fp: 142.0000 - fn: 225.0000 - val_loss: 5.3340 - val_accuracy: 0.6860 - val_fp: 45.0000 - val_fn: 62.0000\n",
      "Epoch 115/275\n",
      "21/21 [==============================] - 0s 7ms/step - loss: 4.5580 - accuracy: 0.8449 - fp: 169.0000 - fn: 243.0000 - val_loss: 5.1973 - val_accuracy: 0.7326 - val_fp: 40.0000 - val_fn: 56.0000\n",
      "Epoch 116/275\n",
      "21/21 [==============================] - 0s 7ms/step - loss: 4.4351 - accuracy: 0.8712 - fp: 130.0000 - fn: 206.0000 - val_loss: 5.1429 - val_accuracy: 0.6744 - val_fp: 48.0000 - val_fn: 63.0000\n",
      "Epoch 117/275\n",
      "21/21 [==============================] - 0s 7ms/step - loss: 4.3427 - accuracy: 0.8494 - fp: 156.0000 - fn: 239.0000 - val_loss: 5.0001 - val_accuracy: 0.6977 - val_fp: 43.0000 - val_fn: 56.0000\n",
      "Epoch 118/275\n",
      "21/21 [==============================] - 0s 6ms/step - loss: 4.2306 - accuracy: 0.8846 - fp: 124.0000 - fn: 190.0000 - val_loss: 4.9411 - val_accuracy: 0.6802 - val_fp: 46.0000 - val_fn: 61.0000\n",
      "Epoch 119/275\n",
      "21/21 [==============================] - 0s 7ms/step - loss: 4.1300 - accuracy: 0.8667 - fp: 138.0000 - fn: 222.0000 - val_loss: 4.7892 - val_accuracy: 0.7151 - val_fp: 41.0000 - val_fn: 57.0000\n",
      "Epoch 120/275\n",
      "21/21 [==============================] - 0s 8ms/step - loss: 4.0368 - accuracy: 0.8674 - fp: 139.0000 - fn: 208.0000 - val_loss: 4.7587 - val_accuracy: 0.7035 - val_fp: 41.0000 - val_fn: 58.0000\n",
      "Epoch 121/275\n",
      "21/21 [==============================] - 0s 7ms/step - loss: 3.9372 - accuracy: 0.8712 - fp: 141.0000 - fn: 217.0000 - val_loss: 4.6424 - val_accuracy: 0.7035 - val_fp: 41.0000 - val_fn: 57.0000\n",
      "Epoch 122/275\n",
      "21/21 [==============================] - 0s 7ms/step - loss: 3.8608 - accuracy: 0.8801 - fp: 130.0000 - fn: 209.0000 - val_loss: 4.5508 - val_accuracy: 0.6977 - val_fp: 43.0000 - val_fn: 58.0000\n",
      "Epoch 123/275\n",
      "21/21 [==============================] - 0s 7ms/step - loss: 3.7602 - accuracy: 0.8704 - fp: 136.0000 - fn: 212.0000 - val_loss: 4.4702 - val_accuracy: 0.6802 - val_fp: 45.0000 - val_fn: 60.0000\n",
      "Epoch 124/275\n",
      "21/21 [==============================] - 0s 7ms/step - loss: 3.6695 - accuracy: 0.8637 - fp: 144.0000 - fn: 215.0000 - val_loss: 4.3833 - val_accuracy: 0.7035 - val_fp: 42.0000 - val_fn: 59.0000\n",
      "Epoch 125/275\n",
      "21/21 [==============================] - 0s 7ms/step - loss: 3.5944 - accuracy: 0.8727 - fp: 134.0000 - fn: 206.0000 - val_loss: 4.3068 - val_accuracy: 0.6802 - val_fp: 44.0000 - val_fn: 59.0000\n",
      "Epoch 126/275\n",
      "21/21 [==============================] - 0s 8ms/step - loss: 3.5031 - accuracy: 0.8787 - fp: 117.0000 - fn: 203.0000 - val_loss: 4.2241 - val_accuracy: 0.6860 - val_fp: 45.0000 - val_fn: 58.0000\n",
      "Epoch 127/275\n",
      "21/21 [==============================] - 0s 7ms/step - loss: 3.4162 - accuracy: 0.8816 - fp: 122.0000 - fn: 185.0000 - val_loss: 4.1315 - val_accuracy: 0.6802 - val_fp: 44.0000 - val_fn: 58.0000\n",
      "Epoch 128/275\n",
      "21/21 [==============================] - 0s 8ms/step - loss: 3.3393 - accuracy: 0.8712 - fp: 136.0000 - fn: 203.0000 - val_loss: 4.0461 - val_accuracy: 0.7093 - val_fp: 44.0000 - val_fn: 58.0000\n",
      "Epoch 129/275\n",
      "21/21 [==============================] - 0s 7ms/step - loss: 3.2655 - accuracy: 0.8846 - fp: 121.0000 - fn: 181.0000 - val_loss: 4.0030 - val_accuracy: 0.6860 - val_fp: 46.0000 - val_fn: 59.0000\n",
      "Epoch 130/275\n",
      "21/21 [==============================] - 0s 7ms/step - loss: 3.1937 - accuracy: 0.8719 - fp: 133.0000 - fn: 202.0000 - val_loss: 3.9238 - val_accuracy: 0.6919 - val_fp: 43.0000 - val_fn: 59.0000\n",
      "Epoch 131/275\n",
      "21/21 [==============================] - 0s 7ms/step - loss: 3.1126 - accuracy: 0.8884 - fp: 109.0000 - fn: 189.0000 - val_loss: 3.8518 - val_accuracy: 0.6802 - val_fp: 48.0000 - val_fn: 59.0000\n",
      "Epoch 132/275\n",
      "21/21 [==============================] - 0s 7ms/step - loss: 3.0435 - accuracy: 0.8831 - fp: 128.0000 - fn: 195.0000 - val_loss: 3.8028 - val_accuracy: 0.6860 - val_fp: 49.0000 - val_fn: 60.0000\n",
      "Epoch 133/275\n",
      "21/21 [==============================] - 0s 8ms/step - loss: 2.9720 - accuracy: 0.8816 - fp: 124.0000 - fn: 196.0000 - val_loss: 3.6916 - val_accuracy: 0.6919 - val_fp: 44.0000 - val_fn: 57.0000\n",
      "Epoch 134/275\n",
      "21/21 [==============================] - 0s 7ms/step - loss: 2.9093 - accuracy: 0.8764 - fp: 134.0000 - fn: 198.0000 - val_loss: 3.6518 - val_accuracy: 0.6802 - val_fp: 48.0000 - val_fn: 59.0000\n",
      "Epoch 135/275\n",
      "21/21 [==============================] - 0s 7ms/step - loss: 2.8328 - accuracy: 0.8914 - fp: 108.0000 - fn: 176.0000 - val_loss: 3.6032 - val_accuracy: 0.6744 - val_fp: 48.0000 - val_fn: 61.0000\n",
      "Epoch 136/275\n",
      "21/21 [==============================] - 0s 7ms/step - loss: 2.7768 - accuracy: 0.8801 - fp: 133.0000 - fn: 202.0000 - val_loss: 3.5041 - val_accuracy: 0.6919 - val_fp: 46.0000 - val_fn: 59.0000\n",
      "Epoch 137/275\n",
      "21/21 [==============================] - 0s 7ms/step - loss: 2.7182 - accuracy: 0.8846 - fp: 112.0000 - fn: 177.0000 - val_loss: 3.4562 - val_accuracy: 0.6860 - val_fp: 44.0000 - val_fn: 61.0000\n",
      "Epoch 138/275\n",
      "21/21 [==============================] - 0s 7ms/step - loss: 2.6446 - accuracy: 0.8719 - fp: 138.0000 - fn: 203.0000 - val_loss: 3.4061 - val_accuracy: 0.6977 - val_fp: 43.0000 - val_fn: 57.0000\n",
      "Epoch 139/275\n",
      "21/21 [==============================] - 0s 7ms/step - loss: 2.5747 - accuracy: 0.8906 - fp: 105.0000 - fn: 177.0000 - val_loss: 3.3469 - val_accuracy: 0.6977 - val_fp: 42.0000 - val_fn: 57.0000\n",
      "Epoch 140/275\n",
      "21/21 [==============================] - 0s 7ms/step - loss: 2.5236 - accuracy: 0.8876 - fp: 120.0000 - fn: 187.0000 - val_loss: 3.2957 - val_accuracy: 0.6919 - val_fp: 44.0000 - val_fn: 60.0000\n",
      "Epoch 141/275\n",
      "21/21 [==============================] - 0s 8ms/step - loss: 2.4743 - accuracy: 0.8831 - fp: 125.0000 - fn: 193.0000 - val_loss: 3.2452 - val_accuracy: 0.6802 - val_fp: 48.0000 - val_fn: 58.0000\n",
      "Epoch 142/275\n",
      "21/21 [==============================] - 0s 7ms/step - loss: 2.4175 - accuracy: 0.8839 - fp: 124.0000 - fn: 195.0000 - val_loss: 3.1949 - val_accuracy: 0.7151 - val_fp: 41.0000 - val_fn: 55.0000\n",
      "Epoch 143/275\n",
      "21/21 [==============================] - 0s 7ms/step - loss: 2.3695 - accuracy: 0.8712 - fp: 133.0000 - fn: 199.0000 - val_loss: 3.1335 - val_accuracy: 0.6802 - val_fp: 45.0000 - val_fn: 59.0000\n",
      "Epoch 144/275\n",
      "21/21 [==============================] - 0s 7ms/step - loss: 2.3162 - accuracy: 0.8951 - fp: 115.0000 - fn: 182.0000 - val_loss: 3.1066 - val_accuracy: 0.6686 - val_fp: 48.0000 - val_fn: 62.0000\n",
      "Epoch 145/275\n",
      "21/21 [==============================] - 0s 7ms/step - loss: 2.2597 - accuracy: 0.8839 - fp: 129.0000 - fn: 188.0000 - val_loss: 3.0156 - val_accuracy: 0.6919 - val_fp: 44.0000 - val_fn: 59.0000\n",
      "Epoch 146/275\n",
      "21/21 [==============================] - 0s 8ms/step - loss: 2.2052 - accuracy: 0.9034 - fp: 100.0000 - fn: 157.0000 - val_loss: 3.0119 - val_accuracy: 0.6802 - val_fp: 46.0000 - val_fn: 60.0000\n",
      "Epoch 147/275\n",
      "21/21 [==============================] - 0s 7ms/step - loss: 2.1625 - accuracy: 0.8854 - fp: 114.0000 - fn: 182.0000 - val_loss: 2.9262 - val_accuracy: 0.6744 - val_fp: 46.0000 - val_fn: 59.0000\n",
      "Epoch 148/275\n",
      "21/21 [==============================] - 0s 8ms/step - loss: 2.1093 - accuracy: 0.8861 - fp: 121.0000 - fn: 179.0000 - val_loss: 2.9001 - val_accuracy: 0.6686 - val_fp: 47.0000 - val_fn: 60.0000\n",
      "Epoch 149/275\n",
      "21/21 [==============================] - 0s 7ms/step - loss: 2.0633 - accuracy: 0.8936 - fp: 111.0000 - fn: 172.0000 - val_loss: 2.8659 - val_accuracy: 0.7151 - val_fp: 42.0000 - val_fn: 55.0000\n",
      "Epoch 150/275\n",
      "21/21 [==============================] - 0s 7ms/step - loss: 2.0331 - accuracy: 0.8906 - fp: 112.0000 - fn: 191.0000 - val_loss: 2.8342 - val_accuracy: 0.6802 - val_fp: 45.0000 - val_fn: 59.0000\n",
      "Epoch 151/275\n",
      "21/21 [==============================] - 0s 7ms/step - loss: 1.9818 - accuracy: 0.8974 - fp: 106.0000 - fn: 168.0000 - val_loss: 2.7952 - val_accuracy: 0.6977 - val_fp: 44.0000 - val_fn: 57.0000\n",
      "Epoch 152/275\n",
      "21/21 [==============================] - 0s 7ms/step - loss: 1.9433 - accuracy: 0.8966 - fp: 104.0000 - fn: 171.0000 - val_loss: 2.7541 - val_accuracy: 0.6744 - val_fp: 45.0000 - val_fn: 61.0000\n",
      "Epoch 153/275\n",
      "21/21 [==============================] - 0s 7ms/step - loss: 1.9076 - accuracy: 0.8936 - fp: 111.0000 - fn: 176.0000 - val_loss: 2.7519 - val_accuracy: 0.6977 - val_fp: 42.0000 - val_fn: 58.0000\n",
      "Epoch 154/275\n",
      "21/21 [==============================] - 0s 7ms/step - loss: 1.8595 - accuracy: 0.8914 - fp: 116.0000 - fn: 177.0000 - val_loss: 2.6571 - val_accuracy: 0.7035 - val_fp: 44.0000 - val_fn: 56.0000\n",
      "Epoch 155/275\n",
      "21/21 [==============================] - 0s 8ms/step - loss: 1.8161 - accuracy: 0.9086 - fp: 99.0000 - fn: 160.0000 - val_loss: 2.6861 - val_accuracy: 0.6977 - val_fp: 44.0000 - val_fn: 60.0000\n",
      "Epoch 156/275\n",
      "21/21 [==============================] - 0s 7ms/step - loss: 1.7988 - accuracy: 0.8876 - fp: 118.0000 - fn: 186.0000 - val_loss: 2.6322 - val_accuracy: 0.6744 - val_fp: 47.0000 - val_fn: 60.0000\n",
      "Epoch 157/275\n",
      "21/21 [==============================] - 0s 7ms/step - loss: 1.7566 - accuracy: 0.8936 - fp: 115.0000 - fn: 180.0000 - val_loss: 2.5715 - val_accuracy: 0.6860 - val_fp: 45.0000 - val_fn: 59.0000\n",
      "Epoch 158/275\n",
      "21/21 [==============================] - 0s 7ms/step - loss: 1.7259 - accuracy: 0.8869 - fp: 115.0000 - fn: 180.0000 - val_loss: 2.5576 - val_accuracy: 0.6860 - val_fp: 46.0000 - val_fn: 56.0000\n",
      "Epoch 159/275\n",
      "21/21 [==============================] - 0s 8ms/step - loss: 1.6829 - accuracy: 0.8966 - fp: 102.0000 - fn: 155.0000 - val_loss: 2.5291 - val_accuracy: 0.6977 - val_fp: 42.0000 - val_fn: 56.0000\n",
      "Epoch 160/275\n",
      "21/21 [==============================] - 0s 7ms/step - loss: 1.6533 - accuracy: 0.9011 - fp: 102.0000 - fn: 162.0000 - val_loss: 2.4950 - val_accuracy: 0.6744 - val_fp: 47.0000 - val_fn: 59.0000\n",
      "Epoch 161/275\n",
      "21/21 [==============================] - 0s 8ms/step - loss: 1.6246 - accuracy: 0.8989 - fp: 107.0000 - fn: 162.0000 - val_loss: 2.4569 - val_accuracy: 0.6860 - val_fp: 44.0000 - val_fn: 58.0000\n",
      "Epoch 162/275\n",
      "21/21 [==============================] - 0s 7ms/step - loss: 1.5984 - accuracy: 0.8816 - fp: 123.0000 - fn: 185.0000 - val_loss: 2.4144 - val_accuracy: 0.6977 - val_fp: 45.0000 - val_fn: 57.0000\n",
      "Epoch 163/275\n",
      "21/21 [==============================] - 0s 7ms/step - loss: 1.5571 - accuracy: 0.9086 - fp: 93.0000 - fn: 154.0000 - val_loss: 2.4107 - val_accuracy: 0.7151 - val_fp: 42.0000 - val_fn: 56.0000\n",
      "Epoch 164/275\n",
      "21/21 [==============================] - 0s 7ms/step - loss: 1.5362 - accuracy: 0.8929 - fp: 109.0000 - fn: 175.0000 - val_loss: 2.3994 - val_accuracy: 0.6977 - val_fp: 43.0000 - val_fn: 59.0000\n",
      "Epoch 165/275\n",
      "21/21 [==============================] - 0s 7ms/step - loss: 1.5017 - accuracy: 0.9086 - fp: 101.0000 - fn: 154.0000 - val_loss: 2.3649 - val_accuracy: 0.6919 - val_fp: 47.0000 - val_fn: 61.0000\n",
      "Epoch 166/275\n",
      "21/21 [==============================] - 0s 7ms/step - loss: 1.4832 - accuracy: 0.9041 - fp: 100.0000 - fn: 165.0000 - val_loss: 2.3370 - val_accuracy: 0.6802 - val_fp: 46.0000 - val_fn: 60.0000\n",
      "Epoch 167/275\n",
      "21/21 [==============================] - 0s 7ms/step - loss: 1.4519 - accuracy: 0.8966 - fp: 104.0000 - fn: 174.0000 - val_loss: 2.3151 - val_accuracy: 0.7035 - val_fp: 42.0000 - val_fn: 56.0000\n",
      "Epoch 168/275\n",
      "21/21 [==============================] - 0s 7ms/step - loss: 1.4272 - accuracy: 0.9004 - fp: 102.0000 - fn: 160.0000 - val_loss: 2.2993 - val_accuracy: 0.6860 - val_fp: 45.0000 - val_fn: 61.0000\n",
      "Epoch 169/275\n",
      "21/21 [==============================] - 0s 7ms/step - loss: 1.4065 - accuracy: 0.9094 - fp: 98.0000 - fn: 150.0000 - val_loss: 2.3031 - val_accuracy: 0.6686 - val_fp: 48.0000 - val_fn: 63.0000\n",
      "Epoch 170/275\n",
      "21/21 [==============================] - 0s 7ms/step - loss: 1.3899 - accuracy: 0.8974 - fp: 107.0000 - fn: 171.0000 - val_loss: 2.2321 - val_accuracy: 0.7035 - val_fp: 44.0000 - val_fn: 59.0000\n",
      "Epoch 171/275\n",
      "21/21 [==============================] - 0s 8ms/step - loss: 1.3535 - accuracy: 0.9131 - fp: 98.0000 - fn: 139.0000 - val_loss: 2.2214 - val_accuracy: 0.6802 - val_fp: 47.0000 - val_fn: 60.0000\n",
      "Epoch 172/275\n",
      "21/21 [==============================] - 0s 7ms/step - loss: 1.3358 - accuracy: 0.9086 - fp: 99.0000 - fn: 149.0000 - val_loss: 2.1985 - val_accuracy: 0.6919 - val_fp: 46.0000 - val_fn: 57.0000\n",
      "Epoch 173/275\n",
      "21/21 [==============================] - 0s 7ms/step - loss: 1.3116 - accuracy: 0.9139 - fp: 90.0000 - fn: 147.0000 - val_loss: 2.1926 - val_accuracy: 0.6860 - val_fp: 44.0000 - val_fn: 61.0000\n",
      "Epoch 174/275\n",
      "21/21 [==============================] - 0s 7ms/step - loss: 1.2866 - accuracy: 0.9041 - fp: 106.0000 - fn: 150.0000 - val_loss: 2.1872 - val_accuracy: 0.6860 - val_fp: 47.0000 - val_fn: 59.0000\n",
      "Epoch 175/275\n",
      "21/21 [==============================] - 0s 7ms/step - loss: 1.2764 - accuracy: 0.9026 - fp: 104.0000 - fn: 163.0000 - val_loss: 2.1225 - val_accuracy: 0.6977 - val_fp: 46.0000 - val_fn: 57.0000\n",
      "Epoch 176/275\n",
      "21/21 [==============================] - 0s 7ms/step - loss: 1.2579 - accuracy: 0.9049 - fp: 105.0000 - fn: 150.0000 - val_loss: 2.1703 - val_accuracy: 0.6686 - val_fp: 47.0000 - val_fn: 61.0000\n",
      "Epoch 177/275\n",
      "21/21 [==============================] - 0s 7ms/step - loss: 1.2305 - accuracy: 0.9064 - fp: 101.0000 - fn: 158.0000 - val_loss: 2.1481 - val_accuracy: 0.6919 - val_fp: 42.0000 - val_fn: 60.0000\n",
      "Epoch 178/275\n",
      "21/21 [==============================] - 0s 8ms/step - loss: 1.2090 - accuracy: 0.9169 - fp: 83.0000 - fn: 142.0000 - val_loss: 2.0647 - val_accuracy: 0.7035 - val_fp: 44.0000 - val_fn: 57.0000\n",
      "Epoch 179/275\n",
      "21/21 [==============================] - 0s 8ms/step - loss: 1.1959 - accuracy: 0.9094 - fp: 103.0000 - fn: 143.0000 - val_loss: 2.0977 - val_accuracy: 0.6802 - val_fp: 46.0000 - val_fn: 60.0000\n",
      "Epoch 180/275\n",
      "21/21 [==============================] - 0s 7ms/step - loss: 1.1856 - accuracy: 0.9041 - fp: 99.0000 - fn: 158.0000 - val_loss: 2.0537 - val_accuracy: 0.6919 - val_fp: 44.0000 - val_fn: 60.0000\n",
      "Epoch 181/275\n",
      "21/21 [==============================] - 0s 8ms/step - loss: 1.1601 - accuracy: 0.9124 - fp: 99.0000 - fn: 141.0000 - val_loss: 2.0598 - val_accuracy: 0.6744 - val_fp: 44.0000 - val_fn: 59.0000\n",
      "Epoch 182/275\n",
      "21/21 [==============================] - 0s 7ms/step - loss: 1.1470 - accuracy: 0.9101 - fp: 93.0000 - fn: 152.0000 - val_loss: 2.0442 - val_accuracy: 0.6919 - val_fp: 44.0000 - val_fn: 58.0000\n",
      "Epoch 183/275\n",
      "21/21 [==============================] - 0s 7ms/step - loss: 1.1354 - accuracy: 0.9056 - fp: 103.0000 - fn: 154.0000 - val_loss: 2.0509 - val_accuracy: 0.6686 - val_fp: 46.0000 - val_fn: 60.0000\n",
      "Epoch 184/275\n",
      "21/21 [==============================] - 0s 8ms/step - loss: 1.1213 - accuracy: 0.9049 - fp: 105.0000 - fn: 152.0000 - val_loss: 2.0015 - val_accuracy: 0.6802 - val_fp: 48.0000 - val_fn: 60.0000\n",
      "Epoch 185/275\n",
      "21/21 [==============================] - 0s 8ms/step - loss: 1.1035 - accuracy: 0.9094 - fp: 92.0000 - fn: 146.0000 - val_loss: 2.0124 - val_accuracy: 0.6860 - val_fp: 46.0000 - val_fn: 59.0000\n",
      "Epoch 186/275\n",
      "21/21 [==============================] - 0s 7ms/step - loss: 1.0852 - accuracy: 0.9049 - fp: 97.0000 - fn: 145.0000 - val_loss: 1.9905 - val_accuracy: 0.6977 - val_fp: 45.0000 - val_fn: 59.0000\n",
      "Epoch 187/275\n",
      "21/21 [==============================] - 0s 8ms/step - loss: 1.0821 - accuracy: 0.9154 - fp: 96.0000 - fn: 148.0000 - val_loss: 2.0192 - val_accuracy: 0.6628 - val_fp: 48.0000 - val_fn: 60.0000\n",
      "Epoch 188/275\n",
      "21/21 [==============================] - 0s 7ms/step - loss: 1.0682 - accuracy: 0.9034 - fp: 103.0000 - fn: 158.0000 - val_loss: 1.9817 - val_accuracy: 0.6686 - val_fp: 46.0000 - val_fn: 60.0000\n",
      "Epoch 189/275\n",
      "21/21 [==============================] - 0s 7ms/step - loss: 1.0601 - accuracy: 0.9034 - fp: 105.0000 - fn: 155.0000 - val_loss: 1.9581 - val_accuracy: 0.6977 - val_fp: 44.0000 - val_fn: 58.0000\n",
      "Epoch 190/275\n",
      "21/21 [==============================] - 0s 7ms/step - loss: 1.0393 - accuracy: 0.9026 - fp: 105.0000 - fn: 157.0000 - val_loss: 1.9413 - val_accuracy: 0.7035 - val_fp: 47.0000 - val_fn: 58.0000\n",
      "Epoch 191/275\n",
      "21/21 [==============================] - 0s 8ms/step - loss: 1.0300 - accuracy: 0.9109 - fp: 93.0000 - fn: 140.0000 - val_loss: 1.9584 - val_accuracy: 0.6860 - val_fp: 45.0000 - val_fn: 58.0000\n",
      "Epoch 192/275\n",
      "21/21 [==============================] - 0s 8ms/step - loss: 1.0155 - accuracy: 0.9124 - fp: 88.0000 - fn: 142.0000 - val_loss: 1.9561 - val_accuracy: 0.6744 - val_fp: 47.0000 - val_fn: 60.0000\n",
      "Epoch 193/275\n",
      "21/21 [==============================] - 0s 7ms/step - loss: 0.9989 - accuracy: 0.9086 - fp: 103.0000 - fn: 147.0000 - val_loss: 1.8936 - val_accuracy: 0.6860 - val_fp: 47.0000 - val_fn: 59.0000\n",
      "Epoch 194/275\n",
      "21/21 [==============================] - 0s 7ms/step - loss: 0.9910 - accuracy: 0.9176 - fp: 89.0000 - fn: 132.0000 - val_loss: 1.9207 - val_accuracy: 0.7035 - val_fp: 42.0000 - val_fn: 56.0000\n",
      "Epoch 195/275\n",
      "21/21 [==============================] - 0s 7ms/step - loss: 0.9871 - accuracy: 0.9049 - fp: 107.0000 - fn: 153.0000 - val_loss: 1.9286 - val_accuracy: 0.6802 - val_fp: 49.0000 - val_fn: 61.0000\n",
      "Epoch 196/275\n",
      "21/21 [==============================] - 0s 8ms/step - loss: 0.9702 - accuracy: 0.9116 - fp: 90.0000 - fn: 146.0000 - val_loss: 1.8982 - val_accuracy: 0.6860 - val_fp: 47.0000 - val_fn: 62.0000\n",
      "Epoch 197/275\n",
      "21/21 [==============================] - 0s 7ms/step - loss: 0.9587 - accuracy: 0.9161 - fp: 90.0000 - fn: 141.0000 - val_loss: 1.8732 - val_accuracy: 0.6802 - val_fp: 48.0000 - val_fn: 57.0000\n",
      "Epoch 198/275\n",
      "21/21 [==============================] - 0s 8ms/step - loss: 0.9490 - accuracy: 0.9154 - fp: 92.0000 - fn: 135.0000 - val_loss: 1.9193 - val_accuracy: 0.6628 - val_fp: 49.0000 - val_fn: 65.0000\n",
      "Epoch 199/275\n",
      "21/21 [==============================] - 0s 7ms/step - loss: 0.9569 - accuracy: 0.9109 - fp: 100.0000 - fn: 147.0000 - val_loss: 1.8814 - val_accuracy: 0.6744 - val_fp: 46.0000 - val_fn: 60.0000\n",
      "Epoch 200/275\n",
      "21/21 [==============================] - 0s 7ms/step - loss: 0.9438 - accuracy: 0.8981 - fp: 107.0000 - fn: 167.0000 - val_loss: 1.8350 - val_accuracy: 0.6802 - val_fp: 46.0000 - val_fn: 59.0000\n",
      "Epoch 201/275\n",
      "21/21 [==============================] - 0s 7ms/step - loss: 0.9314 - accuracy: 0.9109 - fp: 96.0000 - fn: 146.0000 - val_loss: 1.9031 - val_accuracy: 0.6686 - val_fp: 48.0000 - val_fn: 64.0000\n",
      "Epoch 202/275\n",
      "21/21 [==============================] - 0s 8ms/step - loss: 0.9189 - accuracy: 0.9131 - fp: 89.0000 - fn: 137.0000 - val_loss: 1.8692 - val_accuracy: 0.6860 - val_fp: 47.0000 - val_fn: 60.0000\n",
      "Epoch 203/275\n",
      "21/21 [==============================] - 0s 7ms/step - loss: 0.9079 - accuracy: 0.9109 - fp: 98.0000 - fn: 153.0000 - val_loss: 1.8393 - val_accuracy: 0.7093 - val_fp: 43.0000 - val_fn: 57.0000\n",
      "Epoch 204/275\n",
      "21/21 [==============================] - 0s 7ms/step - loss: 0.8974 - accuracy: 0.9131 - fp: 91.0000 - fn: 135.0000 - val_loss: 1.8395 - val_accuracy: 0.6860 - val_fp: 46.0000 - val_fn: 58.0000\n",
      "Epoch 205/275\n",
      "21/21 [==============================] - 0s 8ms/step - loss: 0.8980 - accuracy: 0.9184 - fp: 94.0000 - fn: 134.0000 - val_loss: 1.8468 - val_accuracy: 0.6860 - val_fp: 46.0000 - val_fn: 59.0000\n",
      "Epoch 206/275\n",
      "21/21 [==============================] - 0s 7ms/step - loss: 0.8921 - accuracy: 0.9109 - fp: 97.0000 - fn: 144.0000 - val_loss: 1.8195 - val_accuracy: 0.7035 - val_fp: 43.0000 - val_fn: 56.0000\n",
      "Epoch 207/275\n",
      "21/21 [==============================] - 0s 7ms/step - loss: 0.8866 - accuracy: 0.9094 - fp: 102.0000 - fn: 153.0000 - val_loss: 1.8699 - val_accuracy: 0.6744 - val_fp: 48.0000 - val_fn: 60.0000\n",
      "Epoch 208/275\n",
      "21/21 [==============================] - 0s 7ms/step - loss: 0.8765 - accuracy: 0.9184 - fp: 91.0000 - fn: 140.0000 - val_loss: 1.8573 - val_accuracy: 0.6919 - val_fp: 46.0000 - val_fn: 58.0000\n",
      "Epoch 209/275\n",
      "21/21 [==============================] - 0s 7ms/step - loss: 0.8672 - accuracy: 0.9169 - fp: 94.0000 - fn: 136.0000 - val_loss: 1.8108 - val_accuracy: 0.6977 - val_fp: 44.0000 - val_fn: 57.0000\n",
      "Epoch 210/275\n",
      "21/21 [==============================] - 0s 7ms/step - loss: 0.8663 - accuracy: 0.9176 - fp: 86.0000 - fn: 135.0000 - val_loss: 1.8552 - val_accuracy: 0.6919 - val_fp: 44.0000 - val_fn: 60.0000\n",
      "Epoch 211/275\n",
      "21/21 [==============================] - 0s 7ms/step - loss: 0.8528 - accuracy: 0.9086 - fp: 92.0000 - fn: 141.0000 - val_loss: 1.7724 - val_accuracy: 0.7151 - val_fp: 43.0000 - val_fn: 52.0000\n",
      "Epoch 212/275\n",
      "21/21 [==============================] - 0s 8ms/step - loss: 0.8523 - accuracy: 0.9184 - fp: 88.0000 - fn: 138.0000 - val_loss: 1.8159 - val_accuracy: 0.6919 - val_fp: 44.0000 - val_fn: 58.0000\n",
      "Epoch 213/275\n",
      "21/21 [==============================] - 0s 8ms/step - loss: 0.8392 - accuracy: 0.9236 - fp: 85.0000 - fn: 129.0000 - val_loss: 1.7905 - val_accuracy: 0.6802 - val_fp: 44.0000 - val_fn: 58.0000\n",
      "Epoch 214/275\n",
      "21/21 [==============================] - 0s 8ms/step - loss: 0.8378 - accuracy: 0.9154 - fp: 93.0000 - fn: 135.0000 - val_loss: 1.7768 - val_accuracy: 0.6686 - val_fp: 46.0000 - val_fn: 59.0000\n",
      "Epoch 215/275\n",
      "21/21 [==============================] - 0s 8ms/step - loss: 0.8263 - accuracy: 0.9258 - fp: 79.0000 - fn: 128.0000 - val_loss: 1.8119 - val_accuracy: 0.7093 - val_fp: 42.0000 - val_fn: 59.0000\n",
      "Epoch 216/275\n",
      "21/21 [==============================] - 0s 7ms/step - loss: 0.8283 - accuracy: 0.9228 - fp: 85.0000 - fn: 130.0000 - val_loss: 1.7711 - val_accuracy: 0.6860 - val_fp: 44.0000 - val_fn: 57.0000\n",
      "Epoch 217/275\n",
      "21/21 [==============================] - 0s 7ms/step - loss: 0.8227 - accuracy: 0.9206 - fp: 76.0000 - fn: 139.0000 - val_loss: 1.7704 - val_accuracy: 0.6977 - val_fp: 46.0000 - val_fn: 55.0000\n",
      "Epoch 218/275\n",
      "21/21 [==============================] - 0s 8ms/step - loss: 0.8101 - accuracy: 0.9258 - fp: 80.0000 - fn: 128.0000 - val_loss: 1.7600 - val_accuracy: 0.6919 - val_fp: 47.0000 - val_fn: 56.0000\n",
      "Epoch 219/275\n",
      "21/21 [==============================] - 0s 7ms/step - loss: 0.8157 - accuracy: 0.9281 - fp: 81.0000 - fn: 119.0000 - val_loss: 1.8145 - val_accuracy: 0.6686 - val_fp: 47.0000 - val_fn: 61.0000\n",
      "Epoch 220/275\n",
      "21/21 [==============================] - 0s 7ms/step - loss: 0.8048 - accuracy: 0.9154 - fp: 89.0000 - fn: 137.0000 - val_loss: 1.7808 - val_accuracy: 0.6512 - val_fp: 46.0000 - val_fn: 62.0000\n",
      "Epoch 221/275\n",
      "21/21 [==============================] - 0s 7ms/step - loss: 0.7931 - accuracy: 0.9236 - fp: 80.0000 - fn: 131.0000 - val_loss: 1.7612 - val_accuracy: 0.6977 - val_fp: 44.0000 - val_fn: 57.0000\n",
      "Epoch 222/275\n",
      "21/21 [==============================] - 0s 7ms/step - loss: 0.7921 - accuracy: 0.9221 - fp: 89.0000 - fn: 123.0000 - val_loss: 1.8129 - val_accuracy: 0.6919 - val_fp: 46.0000 - val_fn: 58.0000\n",
      "Epoch 223/275\n",
      "21/21 [==============================] - 0s 7ms/step - loss: 0.7871 - accuracy: 0.9326 - fp: 75.0000 - fn: 114.0000 - val_loss: 1.8349 - val_accuracy: 0.6686 - val_fp: 48.0000 - val_fn: 62.0000\n",
      "Epoch 224/275\n",
      "21/21 [==============================] - 0s 7ms/step - loss: 0.7928 - accuracy: 0.9124 - fp: 98.0000 - fn: 134.0000 - val_loss: 1.7738 - val_accuracy: 0.6919 - val_fp: 45.0000 - val_fn: 60.0000\n",
      "Epoch 225/275\n",
      "21/21 [==============================] - 0s 8ms/step - loss: 0.7833 - accuracy: 0.9176 - fp: 97.0000 - fn: 135.0000 - val_loss: 1.7704 - val_accuracy: 0.6919 - val_fp: 45.0000 - val_fn: 60.0000\n",
      "Epoch 226/275\n",
      "21/21 [==============================] - 0s 8ms/step - loss: 0.7843 - accuracy: 0.9139 - fp: 86.0000 - fn: 138.0000 - val_loss: 1.7597 - val_accuracy: 0.7035 - val_fp: 44.0000 - val_fn: 57.0000\n",
      "Epoch 227/275\n",
      "21/21 [==============================] - 0s 8ms/step - loss: 0.7781 - accuracy: 0.9236 - fp: 87.0000 - fn: 124.0000 - val_loss: 1.7612 - val_accuracy: 0.6570 - val_fp: 48.0000 - val_fn: 61.0000\n",
      "Epoch 228/275\n",
      "21/21 [==============================] - 0s 7ms/step - loss: 0.7644 - accuracy: 0.9221 - fp: 84.0000 - fn: 126.0000 - val_loss: 1.7566 - val_accuracy: 0.6977 - val_fp: 44.0000 - val_fn: 57.0000\n",
      "Epoch 229/275\n",
      "21/21 [==============================] - 0s 7ms/step - loss: 0.7797 - accuracy: 0.9101 - fp: 97.0000 - fn: 144.0000 - val_loss: 1.7449 - val_accuracy: 0.6686 - val_fp: 51.0000 - val_fn: 60.0000\n",
      "Epoch 230/275\n",
      "21/21 [==============================] - 0s 7ms/step - loss: 0.7614 - accuracy: 0.9333 - fp: 76.0000 - fn: 125.0000 - val_loss: 1.7576 - val_accuracy: 0.6802 - val_fp: 47.0000 - val_fn: 60.0000\n",
      "Epoch 231/275\n",
      "21/21 [==============================] - 0s 7ms/step - loss: 0.7642 - accuracy: 0.9213 - fp: 87.0000 - fn: 127.0000 - val_loss: 1.7834 - val_accuracy: 0.6628 - val_fp: 50.0000 - val_fn: 62.0000\n",
      "Epoch 232/275\n",
      "21/21 [==============================] - 0s 8ms/step - loss: 0.7540 - accuracy: 0.9228 - fp: 87.0000 - fn: 131.0000 - val_loss: 1.7683 - val_accuracy: 0.6802 - val_fp: 47.0000 - val_fn: 60.0000\n",
      "Epoch 233/275\n",
      "21/21 [==============================] - 0s 8ms/step - loss: 0.7423 - accuracy: 0.9296 - fp: 74.0000 - fn: 117.0000 - val_loss: 1.7602 - val_accuracy: 0.6860 - val_fp: 45.0000 - val_fn: 59.0000\n",
      "Epoch 234/275\n",
      "21/21 [==============================] - 0s 8ms/step - loss: 0.7545 - accuracy: 0.9236 - fp: 87.0000 - fn: 127.0000 - val_loss: 1.7521 - val_accuracy: 0.6919 - val_fp: 48.0000 - val_fn: 59.0000\n",
      "Epoch 235/275\n",
      "21/21 [==============================] - 0s 7ms/step - loss: 0.7518 - accuracy: 0.9243 - fp: 81.0000 - fn: 122.0000 - val_loss: 1.7696 - val_accuracy: 0.6744 - val_fp: 48.0000 - val_fn: 61.0000\n",
      "Epoch 236/275\n",
      "21/21 [==============================] - 0s 8ms/step - loss: 0.7472 - accuracy: 0.9131 - fp: 101.0000 - fn: 138.0000 - val_loss: 1.7693 - val_accuracy: 0.6919 - val_fp: 46.0000 - val_fn: 58.0000\n",
      "Epoch 237/275\n",
      "21/21 [==============================] - 0s 8ms/step - loss: 0.7420 - accuracy: 0.9288 - fp: 75.0000 - fn: 118.0000 - val_loss: 1.7440 - val_accuracy: 0.6744 - val_fp: 48.0000 - val_fn: 61.0000\n",
      "Epoch 238/275\n",
      "21/21 [==============================] - 0s 8ms/step - loss: 0.7433 - accuracy: 0.9273 - fp: 72.0000 - fn: 119.0000 - val_loss: 1.7323 - val_accuracy: 0.6860 - val_fp: 47.0000 - val_fn: 59.0000\n",
      "Epoch 239/275\n",
      "21/21 [==============================] - 0s 9ms/step - loss: 0.7353 - accuracy: 0.9243 - fp: 85.0000 - fn: 123.0000 - val_loss: 1.7358 - val_accuracy: 0.6686 - val_fp: 46.0000 - val_fn: 62.0000\n",
      "Epoch 240/275\n",
      "21/21 [==============================] - 0s 8ms/step - loss: 0.7297 - accuracy: 0.9288 - fp: 70.0000 - fn: 130.0000 - val_loss: 1.7316 - val_accuracy: 0.6802 - val_fp: 46.0000 - val_fn: 61.0000\n",
      "Epoch 241/275\n",
      "21/21 [==============================] - 0s 7ms/step - loss: 0.7307 - accuracy: 0.9303 - fp: 76.0000 - fn: 123.0000 - val_loss: 1.7479 - val_accuracy: 0.6860 - val_fp: 46.0000 - val_fn: 57.0000\n",
      "Epoch 242/275\n",
      "21/21 [==============================] - 0s 7ms/step - loss: 0.7311 - accuracy: 0.9266 - fp: 87.0000 - fn: 124.0000 - val_loss: 1.7398 - val_accuracy: 0.6744 - val_fp: 46.0000 - val_fn: 61.0000\n",
      "Epoch 243/275\n",
      "21/21 [==============================] - 0s 8ms/step - loss: 0.7278 - accuracy: 0.9206 - fp: 81.0000 - fn: 127.0000 - val_loss: 1.7200 - val_accuracy: 0.6686 - val_fp: 46.0000 - val_fn: 63.0000\n",
      "Epoch 244/275\n",
      "21/21 [==============================] - 0s 8ms/step - loss: 0.7117 - accuracy: 0.9296 - fp: 80.0000 - fn: 114.0000 - val_loss: 1.7629 - val_accuracy: 0.6686 - val_fp: 47.0000 - val_fn: 64.0000\n",
      "Epoch 245/275\n",
      "21/21 [==============================] - 0s 8ms/step - loss: 0.7289 - accuracy: 0.9169 - fp: 95.0000 - fn: 137.0000 - val_loss: 1.7336 - val_accuracy: 0.6802 - val_fp: 46.0000 - val_fn: 60.0000\n",
      "Epoch 246/275\n",
      "21/21 [==============================] - 0s 7ms/step - loss: 0.7068 - accuracy: 0.9311 - fp: 75.0000 - fn: 115.0000 - val_loss: 1.7221 - val_accuracy: 0.6802 - val_fp: 47.0000 - val_fn: 59.0000\n",
      "Epoch 247/275\n",
      "21/21 [==============================] - 0s 7ms/step - loss: 0.7095 - accuracy: 0.9243 - fp: 84.0000 - fn: 124.0000 - val_loss: 1.7802 - val_accuracy: 0.6570 - val_fp: 47.0000 - val_fn: 63.0000\n",
      "Epoch 248/275\n",
      "21/21 [==============================] - 0s 8ms/step - loss: 0.7109 - accuracy: 0.9251 - fp: 75.0000 - fn: 120.0000 - val_loss: 1.7585 - val_accuracy: 0.6628 - val_fp: 46.0000 - val_fn: 63.0000\n",
      "Epoch 249/275\n",
      "21/21 [==============================] - 0s 7ms/step - loss: 0.7078 - accuracy: 0.9288 - fp: 68.0000 - fn: 116.0000 - val_loss: 1.7693 - val_accuracy: 0.6628 - val_fp: 48.0000 - val_fn: 61.0000\n",
      "Epoch 250/275\n",
      "21/21 [==============================] - 0s 7ms/step - loss: 0.7045 - accuracy: 0.9251 - fp: 83.0000 - fn: 127.0000 - val_loss: 1.6956 - val_accuracy: 0.6919 - val_fp: 41.0000 - val_fn: 57.0000\n",
      "Epoch 251/275\n",
      "21/21 [==============================] - 0s 8ms/step - loss: 0.6978 - accuracy: 0.9296 - fp: 74.0000 - fn: 116.0000 - val_loss: 1.7240 - val_accuracy: 0.6686 - val_fp: 48.0000 - val_fn: 60.0000\n",
      "Epoch 252/275\n",
      "21/21 [==============================] - 0s 7ms/step - loss: 0.7128 - accuracy: 0.9176 - fp: 91.0000 - fn: 131.0000 - val_loss: 1.6966 - val_accuracy: 0.6919 - val_fp: 46.0000 - val_fn: 58.0000\n",
      "Epoch 253/275\n",
      "21/21 [==============================] - 0s 8ms/step - loss: 0.7025 - accuracy: 0.9184 - fp: 89.0000 - fn: 127.0000 - val_loss: 1.6982 - val_accuracy: 0.6860 - val_fp: 47.0000 - val_fn: 57.0000\n",
      "Epoch 254/275\n",
      "21/21 [==============================] - 0s 7ms/step - loss: 0.6930 - accuracy: 0.9318 - fp: 76.0000 - fn: 106.0000 - val_loss: 1.7420 - val_accuracy: 0.6628 - val_fp: 44.0000 - val_fn: 61.0000\n",
      "Epoch 255/275\n",
      "21/21 [==============================] - 0s 8ms/step - loss: 0.7010 - accuracy: 0.9176 - fp: 86.0000 - fn: 137.0000 - val_loss: 1.6800 - val_accuracy: 0.6744 - val_fp: 45.0000 - val_fn: 58.0000\n",
      "Epoch 256/275\n",
      "21/21 [==============================] - 0s 7ms/step - loss: 0.6961 - accuracy: 0.9363 - fp: 69.0000 - fn: 110.0000 - val_loss: 1.7682 - val_accuracy: 0.6919 - val_fp: 47.0000 - val_fn: 59.0000\n",
      "Epoch 257/275\n",
      "21/21 [==============================] - 0s 7ms/step - loss: 0.7039 - accuracy: 0.9236 - fp: 84.0000 - fn: 125.0000 - val_loss: 1.7191 - val_accuracy: 0.6628 - val_fp: 46.0000 - val_fn: 60.0000\n",
      "Epoch 258/275\n",
      "21/21 [==============================] - 0s 7ms/step - loss: 0.6827 - accuracy: 0.9288 - fp: 70.0000 - fn: 116.0000 - val_loss: 1.7166 - val_accuracy: 0.6919 - val_fp: 46.0000 - val_fn: 58.0000\n",
      "Epoch 259/275\n",
      "21/21 [==============================] - 0s 7ms/step - loss: 0.6914 - accuracy: 0.9199 - fp: 85.0000 - fn: 124.0000 - val_loss: 1.6934 - val_accuracy: 0.6977 - val_fp: 47.0000 - val_fn: 57.0000\n",
      "Epoch 260/275\n",
      "21/21 [==============================] - 0s 8ms/step - loss: 0.6803 - accuracy: 0.9401 - fp: 68.0000 - fn: 95.0000 - val_loss: 1.7299 - val_accuracy: 0.6919 - val_fp: 44.0000 - val_fn: 60.0000\n",
      "Epoch 261/275\n",
      "21/21 [==============================] - 0s 7ms/step - loss: 0.6897 - accuracy: 0.9266 - fp: 84.0000 - fn: 124.0000 - val_loss: 1.7331 - val_accuracy: 0.6570 - val_fp: 52.0000 - val_fn: 62.0000\n",
      "Epoch 262/275\n",
      "21/21 [==============================] - 0s 7ms/step - loss: 0.6878 - accuracy: 0.9311 - fp: 74.0000 - fn: 125.0000 - val_loss: 1.7108 - val_accuracy: 0.6744 - val_fp: 48.0000 - val_fn: 60.0000\n",
      "Epoch 263/275\n",
      "21/21 [==============================] - 0s 8ms/step - loss: 0.6719 - accuracy: 0.9311 - fp: 77.0000 - fn: 107.0000 - val_loss: 1.6660 - val_accuracy: 0.6860 - val_fp: 44.0000 - val_fn: 56.0000\n",
      "Epoch 264/275\n",
      "21/21 [==============================] - 0s 7ms/step - loss: 0.6898 - accuracy: 0.9243 - fp: 83.0000 - fn: 127.0000 - val_loss: 1.6673 - val_accuracy: 0.6860 - val_fp: 44.0000 - val_fn: 55.0000\n",
      "Epoch 265/275\n",
      "21/21 [==============================] - 0s 7ms/step - loss: 0.6769 - accuracy: 0.9303 - fp: 78.0000 - fn: 117.0000 - val_loss: 1.6891 - val_accuracy: 0.6977 - val_fp: 44.0000 - val_fn: 55.0000\n",
      "Epoch 266/275\n",
      "21/21 [==============================] - 0s 7ms/step - loss: 0.6637 - accuracy: 0.9318 - fp: 75.0000 - fn: 107.0000 - val_loss: 1.6908 - val_accuracy: 0.6860 - val_fp: 50.0000 - val_fn: 59.0000\n",
      "Epoch 267/275\n",
      "21/21 [==============================] - 0s 7ms/step - loss: 0.6801 - accuracy: 0.9243 - fp: 77.0000 - fn: 119.0000 - val_loss: 1.7404 - val_accuracy: 0.6744 - val_fp: 48.0000 - val_fn: 61.0000\n",
      "Epoch 268/275\n",
      "21/21 [==============================] - 0s 7ms/step - loss: 0.6830 - accuracy: 0.9266 - fp: 80.0000 - fn: 119.0000 - val_loss: 1.7339 - val_accuracy: 0.6744 - val_fp: 48.0000 - val_fn: 62.0000\n",
      "Epoch 269/275\n",
      "21/21 [==============================] - 0s 8ms/step - loss: 0.6794 - accuracy: 0.9206 - fp: 79.0000 - fn: 125.0000 - val_loss: 1.6765 - val_accuracy: 0.6802 - val_fp: 48.0000 - val_fn: 59.0000\n",
      "Epoch 270/275\n",
      "21/21 [==============================] - 0s 7ms/step - loss: 0.6737 - accuracy: 0.9258 - fp: 81.0000 - fn: 117.0000 - val_loss: 1.6941 - val_accuracy: 0.6628 - val_fp: 46.0000 - val_fn: 62.0000\n",
      "Epoch 271/275\n",
      "21/21 [==============================] - 0s 8ms/step - loss: 0.6722 - accuracy: 0.9258 - fp: 83.0000 - fn: 125.0000 - val_loss: 1.7342 - val_accuracy: 0.6860 - val_fp: 48.0000 - val_fn: 61.0000\n",
      "Epoch 272/275\n",
      "21/21 [==============================] - 0s 8ms/step - loss: 0.6651 - accuracy: 0.9363 - fp: 68.0000 - fn: 115.0000 - val_loss: 1.7532 - val_accuracy: 0.6860 - val_fp: 48.0000 - val_fn: 61.0000\n",
      "Epoch 273/275\n",
      "21/21 [==============================] - 0s 7ms/step - loss: 0.6707 - accuracy: 0.9318 - fp: 67.0000 - fn: 115.0000 - val_loss: 1.7556 - val_accuracy: 0.6744 - val_fp: 48.0000 - val_fn: 62.0000\n",
      "Epoch 274/275\n",
      "21/21 [==============================] - 0s 7ms/step - loss: 0.6641 - accuracy: 0.9273 - fp: 79.0000 - fn: 117.0000 - val_loss: 1.7470 - val_accuracy: 0.6744 - val_fp: 52.0000 - val_fn: 60.0000\n",
      "Epoch 275/275\n",
      "21/21 [==============================] - 0s 8ms/step - loss: 0.6688 - accuracy: 0.9199 - fp: 84.0000 - fn: 131.0000 - val_loss: 1.6868 - val_accuracy: 0.6686 - val_fp: 47.0000 - val_fn: 60.0000\n"
     ]
    }
   ],
   "source": [
    "model_history = model3.fit(X_train_np,\n",
    "                              y_train,\n",
    "                              batch_size=64,\n",
    "                              epochs=275,\n",
    "                              class_weight = class_weights,\n",
    "                              validation_data=(X_val_np, y_val)\n",
    ")"
   ]
  },
  {
   "cell_type": "markdown",
   "metadata": {
    "id": "qXp0UkwiRKvj"
   },
   "source": [
    "# Evaluate the model on test set\n",
    "Achieved Accuracy: 71.79"
   ]
  },
  {
   "cell_type": "code",
   "execution_count": 36,
   "metadata": {
    "colab": {
     "base_uri": "https://localhost:8080/"
    },
    "id": "QK3Rz9VRD_Cv",
    "outputId": "3544b266-a290-4db7-8299-c71af4e09299"
   },
   "outputs": [
    {
     "name": "stdout",
     "output_type": "stream",
     "text": [
      "5/5 [==============================] - 0s 4ms/step - loss: 1.7362 - accuracy: 0.7179 - fp: 43.0000 - fn: 51.0000\n"
     ]
    },
    {
     "data": {
      "text/plain": [
       "[1.7362176179885864, 0.7179487347602844, 43.0, 51.0]"
      ]
     },
     "execution_count": 36,
     "metadata": {},
     "output_type": "execute_result"
    }
   ],
   "source": [
    "model3.evaluate(X_test_np,y_test)"
   ]
  },
  {
   "cell_type": "code",
   "execution_count": 37,
   "metadata": {
    "colab": {
     "base_uri": "https://localhost:8080/"
    },
    "id": "rz_vAJ3dHMjw",
    "outputId": "b4a34fe7-0698-4fbe-c2f7-da825f3c1644"
   },
   "outputs": [
    {
     "name": "stdout",
     "output_type": "stream",
     "text": [
      "5/5 [==============================] - 0s 2ms/step\n"
     ]
    }
   ],
   "source": [
    "ans = model3.predict(X_test_np)"
   ]
  },
  {
   "cell_type": "code",
   "execution_count": 38,
   "metadata": {
    "id": "pawlzXnarT78"
   },
   "outputs": [],
   "source": [
    "final_ans = np.argmax(ans,axis=1) + 1\n",
    "final_y_test = np.argmax(y_test,axis=1) + 1"
   ]
  },
  {
   "cell_type": "code",
   "execution_count": 39,
   "metadata": {
    "colab": {
     "base_uri": "https://localhost:8080/"
    },
    "id": "sfTehbberU5-",
    "outputId": "f42ca309-2203-4b7d-8213-4f94e186796f"
   },
   "outputs": [
    {
     "data": {
      "text/plain": [
       "array([[53,  0,  4,  7,  0,  3],\n",
       "       [ 2,  2,  0,  0,  0,  0],\n",
       "       [ 2,  1,  4,  1,  1,  0],\n",
       "       [ 6,  0,  2, 40,  1,  1],\n",
       "       [ 2,  0,  2,  1,  2,  1],\n",
       "       [ 3,  0,  0,  2,  2, 11]])"
      ]
     },
     "execution_count": 39,
     "metadata": {},
     "output_type": "execute_result"
    }
   ],
   "source": [
    "from sklearn.metrics import confusion_matrix\n",
    "cm = confusion_matrix(final_y_test,final_ans)\n",
    "cm"
   ]
  },
  {
   "cell_type": "markdown",
   "metadata": {
    "id": "ODpVCDqqRKvj"
   },
   "source": [
    "# Plots\n",
    "#### 1. Plotting False-Positives and False-Negatives as data is imbalance"
   ]
  },
  {
   "cell_type": "code",
   "execution_count": 40,
   "metadata": {
    "colab": {
     "base_uri": "https://localhost:8080/",
     "height": 298
    },
    "id": "LFGAJ0w-rivo",
    "outputId": "4562ef95-c564-461c-a534-ba8771f35954"
   },
   "outputs": [
    {
     "data": {
      "text/plain": [
       "<matplotlib.axes._subplots.AxesSubplot at 0x7faad40e1490>"
      ]
     },
     "execution_count": 40,
     "metadata": {},
     "output_type": "execute_result"
    },
    {
     "data": {
      "image/png": "[encoded data removed]",
      "text/plain": [
       "<Figure size 432x288 with 1 Axes>"
      ]
     },
     "metadata": {
      "needs_background": "light"
     },
     "output_type": "display_data"
    }
   ],
   "source": [
    "import matplotlib.pyplot as plt\n",
    "pd.DataFrame(model_history.history).plot(title=\"Metrics\")"
   ]
  },
  {
   "cell_type": "markdown",
   "metadata": {
    "id": "wLcc-RctRKvk"
   },
   "source": [
    "#### 2. Model Loss curve"
   ]
  },
  {
   "cell_type": "code",
   "execution_count": 44,
   "metadata": {
    "colab": {
     "base_uri": "https://localhost:8080/",
     "height": 286
    },
    "id": "8HzeugGYr2E1",
    "outputId": "835ea744-1d1b-48e1-8c3c-f838def7ec31"
   },
   "outputs": [
    {
     "data": {
      "text/plain": [
       "[<matplotlib.lines.Line2D at 0x7faad0117190>]"
      ]
     },
     "execution_count": 44,
     "metadata": {},
     "output_type": "execute_result"
    },
    {
     "data": {
      "image/png": "[encoded data removed]",
      "text/plain": [
       "<Figure size 432x288 with 1 Axes>"
      ]
     },
     "metadata": {
      "needs_background": "light"
     },
     "output_type": "display_data"
    }
   ],
   "source": [
    "Epochs = tf.range(275)\n",
    "plt.semilogx(Epochs, model_history.history[\"loss\"])"
   ]
  },
  {
   "cell_type": "markdown",
   "metadata": {
    "id": "jNKSHd_qRKvk"
   },
   "source": [
    "# Confusion Matrix\n",
    "##### Confusion mat on test set "
   ]
  },
  {
   "cell_type": "code",
   "execution_count": 42,
   "metadata": {
    "id": "ing27IqEsHSG",
    "jupyter": {
     "source_hidden": true
    },
    "tags": []
   },
   "outputs": [],
   "source": [
    "import itertools\n",
    "def make_confusion_matrix(y_true, y_pred, classes=None, figsize=(10, 10), text_size=15): \n",
    "  # Create the confustion matrix\n",
    "  cm = confusion_matrix(y_true, y_pred)\n",
    "  cm_norm = cm.astype(\"float\") / cm.sum(axis=1)[:, np.newaxis] # normalize it\n",
    "  n_classes = cm.shape[0] # find the number of classes we're dealing with\n",
    "\n",
    "  # Plot the figure and make it pretty\n",
    "  fig, ax = plt.subplots(figsize=figsize)\n",
    "  cax = ax.matshow(cm, cmap=plt.cm.Blues) # colors will represent how 'correct' a class is, darker == better\n",
    "  fig.colorbar(cax)\n",
    "\n",
    "  # Are there a list of classes?\n",
    "  if classes:\n",
    "    labels = classes\n",
    "  else:\n",
    "    labels = np.arange(cm.shape[0])\n",
    "  \n",
    "  # Label the axes\n",
    "  ax.set(title=\"Confusion Matrix\",\n",
    "         xlabel=\"Predicted label\",\n",
    "         ylabel=\"True label\",\n",
    "         xticks=np.arange(n_classes), # create enough axis slots for each class\n",
    "         yticks=np.arange(n_classes), \n",
    "         xticklabels=labels, # axes will labeled with class names (if they exist) or ints\n",
    "         yticklabels=labels)\n",
    "  \n",
    "  # Make x-axis labels appear on bottom\n",
    "  ax.xaxis.set_label_position(\"bottom\")\n",
    "  ax.xaxis.tick_bottom()\n",
    "\n",
    "  # Set the threshold for different colors\n",
    "  threshold = (cm.max() + cm.min()) / 2.\n",
    "\n",
    "  # Plot the text on each cell\n",
    "  for i, j in itertools.product(range(cm.shape[0]), range(cm.shape[1])):\n",
    "    plt.text(j, i, f\"{cm[i, j]} ({cm_norm[i, j]*100:.1f}%)\",\n",
    "             horizontalalignment=\"center\",\n",
    "             color=\"white\" if cm[i, j] > threshold else \"black\",\n",
    "             size=text_size)"
   ]
  },
  {
   "cell_type": "code",
   "execution_count": 43,
   "metadata": {
    "colab": {
     "base_uri": "https://localhost:8080/",
     "height": 580
    },
    "id": "nDPGPZ2M3xP6",
    "outputId": "cdd3a1b7-45b8-412b-f99c-8f973abbf68d"
   },
   "outputs": [
    {
     "data": {
      "image/png": "[encoded data removed]",
      "text/plain": [
       "<Figure size 720x720 with 2 Axes>"
      ]
     },
     "metadata": {
      "needs_background": "light"
     },
     "output_type": "display_data"
    }
   ],
   "source": [
    "make_confusion_matrix(final_y_test, final_ans)"
   ]
  }
 ],
 "metadata": {
  "accelerator": "GPU",
  "colab": {
   "provenance": []
  },
  "gpuClass": "standard",
  "kernelspec": {
   "display_name": "Python 3 (ipykernel)",
   "language": "python",
   "name": "python3"
  },
  "language_info": {
   "codemirror_mode": {
    "name": "ipython",
    "version": 3
   },
   "file_extension": ".py",
   "mimetype": "text/x-python",
   "name": "python",
   "nbconvert_exporter": "python",
   "pygments_lexer": "ipython3",
   "version": "3.9.13"
  }
 },
 "nbformat": 4,
 "nbformat_minor": 4
}
